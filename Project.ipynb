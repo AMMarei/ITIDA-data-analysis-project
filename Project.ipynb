{
 "cells": [
  {
   "cell_type": "markdown",
   "metadata": {},
   "source": [
    "# Analysis of No-Show Medical Appointments\n",
    "\n",
    "## Table of Contents\n",
    "<ul>\n",
    "<li><a href=\"#func\">Functions</a></li>\n",
    "<li><a href=\"#intro\">Introduction</a></li>\n",
    "<li><a href=\"#wrangling\">Data Wrangling</a></li>\n",
    "<li><a href=\"#eda\">Exploratory Data Analysis</a></li>\n",
    "<li><a href=\"https://github.com/AMMarei/ITIDA-data-analysis-project/blob/main/Project.ipynb#conclusions">Conclusions</a></li>\n",
    "</ul>"
   ]
  },
  {
   "cell_type": "markdown",
   "metadata": {},
   "source": [
    "<a id='func'></a>\n",
    "## Functions"
   ]
  },
  {
   "cell_type": "markdown",
   "metadata": {},
   "source": [
    "Implementation of the two functions that are used throughout the notebook. This section comes before the introduction because one of the two functions is used to output questions in the introduction."
   ]
  },
  {
   "cell_type": "code",
   "execution_count": 1,
   "metadata": {},
   "outputs": [],
   "source": [
    "def print_question(question_number = 0):\n",
    "    \"\"\"\n",
    "    Takes a question's number as an argument, prints the corresponding question in bold.\n",
    "    Default argument is 0, if used, all questions are printed.\n",
    "    \"\"\"\n",
    "    \n",
    "    # List with all 7 questions\n",
    "    questions_list = ['1- What impact does gender have on no-show?',\n",
    "                      '2- Does early scheduling of appointments have an effect on no-show?',\n",
    "                      '3- Are certain age groups more likely to no-show?',\n",
    "                      '4- On which week days are no-shows more likely to occur?',\n",
    "                      '5- Which neighbourhoods are more likely to have no-shows?',\n",
    "                      '6- Are patients suffering from medical conditions less likely to no-show?',\n",
    "                      '7- Does SMS have a positive effect on no-show?']\n",
    "    \n",
    "    # If no argument is provided to function, default parameter of 0 is used to print all questions\n",
    "    if question_number == 0:\n",
    "        for question in questions_list:\n",
    "            # Print in bold\n",
    "            print('\\033[1m' + question + '\\033[0m')\n",
    "    # If an argument is provided, adjust it by deducting 1 to match the position of the question in the list\n",
    "    # then print it in bold\n",
    "    else:\n",
    "        print('\\033[1m' + questions_list[question_number - 1] + '\\033[0m')"
   ]
  },
  {
   "cell_type": "code",
   "execution_count": 2,
   "metadata": {},
   "outputs": [],
   "source": [
    "def plot_blueprint(df, df_title, x_label, y_label, plot_type, plot_size = (6.4, 4.8)):\n",
    "    \"\"\"\n",
    "    Generic function that takes 5 required arguments, and one optional argument: plot_size.\n",
    "    Maps the arguments to the corresponding plotting function.\n",
    "    \"\"\"\n",
    "    \n",
    "    df.plot(kind = plot_type, figsize = plot_size)\n",
    "    plt.title(df_title)\n",
    "    plt.xlabel(x_label)\n",
    "    plt.ylabel(y_label)"
   ]
  },
  {
   "cell_type": "markdown",
   "metadata": {},
   "source": [
    "<a id='intro'></a>\n",
    "## Introduction\n",
    "Analysis will be performed on a dataset that has information from 100k medical appointments in Brazil, it has one dependant variable, and that is whether a patient shows up to an appointment or not. All other variables are independant ones, our initial assumption is that at least few of them have an effect on the dependant variable.\n",
    "\n",
    "Our analysis is going to uncover the correlations between the dependant variable and some of the independant ones.\n"
   ]
  },
  {
   "cell_type": "markdown",
   "metadata": {},
   "source": [
    "### Questions to be answered:"
   ]
  },
  {
   "cell_type": "code",
   "execution_count": 3,
   "metadata": {
    "scrolled": true
   },
   "outputs": [
    {
     "name": "stdout",
     "output_type": "stream",
     "text": [
      "\u001b[1m1- What impact does gender have on no-show?\u001b[0m\n",
      "\u001b[1m2- Does early scheduling of appointments have an effect on no-show?\u001b[0m\n",
      "\u001b[1m3- Are certain age groups more likely to no-show?\u001b[0m\n",
      "\u001b[1m4- On which week days are no-shows more likely to occur?\u001b[0m\n",
      "\u001b[1m5- Which neighbourhoods are more likely to have no-shows?\u001b[0m\n",
      "\u001b[1m6- Are patients suffering from medical conditions less likely to no-show?\u001b[0m\n",
      "\u001b[1m7- Does SMS have a positive effect on no-show?\u001b[0m\n"
     ]
    }
   ],
   "source": [
    "# Print all questions\n",
    "print_question()"
   ]
  },
  {
   "cell_type": "markdown",
   "metadata": {},
   "source": [
    "<a id='wrangling'></a>\n",
    "## Data Wrangling"
   ]
  },
  {
   "cell_type": "code",
   "execution_count": 4,
   "metadata": {},
   "outputs": [],
   "source": [
    "# Import statements for all needed packages\n",
    "import numpy as np\n",
    "import pandas as pd\n",
    "import matplotlib.pyplot as plt\n",
    "\n",
    "# Magic function to render all matplotlib figures inside the notebook\n",
    "%matplotlib inline"
   ]
  },
  {
   "cell_type": "markdown",
   "metadata": {},
   "source": [
    "#### Load the dataset into a dataframe, and view top rows:"
   ]
  },
  {
   "cell_type": "code",
   "execution_count": 5,
   "metadata": {},
   "outputs": [],
   "source": [
    "df = pd.read_csv('noshowappointments-kagglev2-may-2016.csv')"
   ]
  },
  {
   "cell_type": "code",
   "execution_count": 6,
   "metadata": {
    "scrolled": true
   },
   "outputs": [
    {
     "data": {
      "text/html": [
       "<div>\n",
       "<style scoped>\n",
       "    .dataframe tbody tr th:only-of-type {\n",
       "        vertical-align: middle;\n",
       "    }\n",
       "\n",
       "    .dataframe tbody tr th {\n",
       "        vertical-align: top;\n",
       "    }\n",
       "\n",
       "    .dataframe thead th {\n",
       "        text-align: right;\n",
       "    }\n",
       "</style>\n",
       "<table border=\"1\" class=\"dataframe\">\n",
       "  <thead>\n",
       "    <tr style=\"text-align: right;\">\n",
       "      <th></th>\n",
       "      <th>PatientId</th>\n",
       "      <th>AppointmentID</th>\n",
       "      <th>Gender</th>\n",
       "      <th>ScheduledDay</th>\n",
       "      <th>AppointmentDay</th>\n",
       "      <th>Age</th>\n",
       "      <th>Neighbourhood</th>\n",
       "      <th>Scholarship</th>\n",
       "      <th>Hipertension</th>\n",
       "      <th>Diabetes</th>\n",
       "      <th>Alcoholism</th>\n",
       "      <th>Handcap</th>\n",
       "      <th>SMS_received</th>\n",
       "      <th>No-show</th>\n",
       "    </tr>\n",
       "  </thead>\n",
       "  <tbody>\n",
       "    <tr>\n",
       "      <th>0</th>\n",
       "      <td>2.987250e+13</td>\n",
       "      <td>5642903</td>\n",
       "      <td>F</td>\n",
       "      <td>2016-04-29T18:38:08Z</td>\n",
       "      <td>2016-04-29T00:00:00Z</td>\n",
       "      <td>62</td>\n",
       "      <td>JARDIM DA PENHA</td>\n",
       "      <td>0</td>\n",
       "      <td>1</td>\n",
       "      <td>0</td>\n",
       "      <td>0</td>\n",
       "      <td>0</td>\n",
       "      <td>0</td>\n",
       "      <td>No</td>\n",
       "    </tr>\n",
       "    <tr>\n",
       "      <th>1</th>\n",
       "      <td>5.589978e+14</td>\n",
       "      <td>5642503</td>\n",
       "      <td>M</td>\n",
       "      <td>2016-04-29T16:08:27Z</td>\n",
       "      <td>2016-04-29T00:00:00Z</td>\n",
       "      <td>56</td>\n",
       "      <td>JARDIM DA PENHA</td>\n",
       "      <td>0</td>\n",
       "      <td>0</td>\n",
       "      <td>0</td>\n",
       "      <td>0</td>\n",
       "      <td>0</td>\n",
       "      <td>0</td>\n",
       "      <td>No</td>\n",
       "    </tr>\n",
       "    <tr>\n",
       "      <th>2</th>\n",
       "      <td>4.262962e+12</td>\n",
       "      <td>5642549</td>\n",
       "      <td>F</td>\n",
       "      <td>2016-04-29T16:19:04Z</td>\n",
       "      <td>2016-04-29T00:00:00Z</td>\n",
       "      <td>62</td>\n",
       "      <td>MATA DA PRAIA</td>\n",
       "      <td>0</td>\n",
       "      <td>0</td>\n",
       "      <td>0</td>\n",
       "      <td>0</td>\n",
       "      <td>0</td>\n",
       "      <td>0</td>\n",
       "      <td>No</td>\n",
       "    </tr>\n",
       "    <tr>\n",
       "      <th>3</th>\n",
       "      <td>8.679512e+11</td>\n",
       "      <td>5642828</td>\n",
       "      <td>F</td>\n",
       "      <td>2016-04-29T17:29:31Z</td>\n",
       "      <td>2016-04-29T00:00:00Z</td>\n",
       "      <td>8</td>\n",
       "      <td>PONTAL DE CAMBURI</td>\n",
       "      <td>0</td>\n",
       "      <td>0</td>\n",
       "      <td>0</td>\n",
       "      <td>0</td>\n",
       "      <td>0</td>\n",
       "      <td>0</td>\n",
       "      <td>No</td>\n",
       "    </tr>\n",
       "    <tr>\n",
       "      <th>4</th>\n",
       "      <td>8.841186e+12</td>\n",
       "      <td>5642494</td>\n",
       "      <td>F</td>\n",
       "      <td>2016-04-29T16:07:23Z</td>\n",
       "      <td>2016-04-29T00:00:00Z</td>\n",
       "      <td>56</td>\n",
       "      <td>JARDIM DA PENHA</td>\n",
       "      <td>0</td>\n",
       "      <td>1</td>\n",
       "      <td>1</td>\n",
       "      <td>0</td>\n",
       "      <td>0</td>\n",
       "      <td>0</td>\n",
       "      <td>No</td>\n",
       "    </tr>\n",
       "  </tbody>\n",
       "</table>\n",
       "</div>"
      ],
      "text/plain": [
       "      PatientId  AppointmentID Gender          ScheduledDay  \\\n",
       "0  2.987250e+13        5642903      F  2016-04-29T18:38:08Z   \n",
       "1  5.589978e+14        5642503      M  2016-04-29T16:08:27Z   \n",
       "2  4.262962e+12        5642549      F  2016-04-29T16:19:04Z   \n",
       "3  8.679512e+11        5642828      F  2016-04-29T17:29:31Z   \n",
       "4  8.841186e+12        5642494      F  2016-04-29T16:07:23Z   \n",
       "\n",
       "         AppointmentDay  Age      Neighbourhood  Scholarship  Hipertension  \\\n",
       "0  2016-04-29T00:00:00Z   62    JARDIM DA PENHA            0             1   \n",
       "1  2016-04-29T00:00:00Z   56    JARDIM DA PENHA            0             0   \n",
       "2  2016-04-29T00:00:00Z   62      MATA DA PRAIA            0             0   \n",
       "3  2016-04-29T00:00:00Z    8  PONTAL DE CAMBURI            0             0   \n",
       "4  2016-04-29T00:00:00Z   56    JARDIM DA PENHA            0             1   \n",
       "\n",
       "   Diabetes  Alcoholism  Handcap  SMS_received No-show  \n",
       "0         0           0        0             0      No  \n",
       "1         0           0        0             0      No  \n",
       "2         0           0        0             0      No  \n",
       "3         0           0        0             0      No  \n",
       "4         1           0        0             0      No  "
      ]
     },
     "execution_count": 6,
     "metadata": {},
     "output_type": "execute_result"
    }
   ],
   "source": [
    "df.head()"
   ]
  },
  {
   "cell_type": "markdown",
   "metadata": {},
   "source": [
    "#### Drop columns that are not relevant to the analysis (Patient ID & Appointment ID):"
   ]
  },
  {
   "cell_type": "code",
   "execution_count": 7,
   "metadata": {},
   "outputs": [
    {
     "data": {
      "text/html": [
       "<div>\n",
       "<style scoped>\n",
       "    .dataframe tbody tr th:only-of-type {\n",
       "        vertical-align: middle;\n",
       "    }\n",
       "\n",
       "    .dataframe tbody tr th {\n",
       "        vertical-align: top;\n",
       "    }\n",
       "\n",
       "    .dataframe thead th {\n",
       "        text-align: right;\n",
       "    }\n",
       "</style>\n",
       "<table border=\"1\" class=\"dataframe\">\n",
       "  <thead>\n",
       "    <tr style=\"text-align: right;\">\n",
       "      <th></th>\n",
       "      <th>Gender</th>\n",
       "      <th>ScheduledDay</th>\n",
       "      <th>AppointmentDay</th>\n",
       "      <th>Age</th>\n",
       "      <th>Neighbourhood</th>\n",
       "      <th>Scholarship</th>\n",
       "      <th>Hipertension</th>\n",
       "      <th>Diabetes</th>\n",
       "      <th>Alcoholism</th>\n",
       "      <th>Handcap</th>\n",
       "      <th>SMS_received</th>\n",
       "      <th>No-show</th>\n",
       "    </tr>\n",
       "  </thead>\n",
       "  <tbody>\n",
       "    <tr>\n",
       "      <th>0</th>\n",
       "      <td>F</td>\n",
       "      <td>2016-04-29T18:38:08Z</td>\n",
       "      <td>2016-04-29T00:00:00Z</td>\n",
       "      <td>62</td>\n",
       "      <td>JARDIM DA PENHA</td>\n",
       "      <td>0</td>\n",
       "      <td>1</td>\n",
       "      <td>0</td>\n",
       "      <td>0</td>\n",
       "      <td>0</td>\n",
       "      <td>0</td>\n",
       "      <td>No</td>\n",
       "    </tr>\n",
       "    <tr>\n",
       "      <th>1</th>\n",
       "      <td>M</td>\n",
       "      <td>2016-04-29T16:08:27Z</td>\n",
       "      <td>2016-04-29T00:00:00Z</td>\n",
       "      <td>56</td>\n",
       "      <td>JARDIM DA PENHA</td>\n",
       "      <td>0</td>\n",
       "      <td>0</td>\n",
       "      <td>0</td>\n",
       "      <td>0</td>\n",
       "      <td>0</td>\n",
       "      <td>0</td>\n",
       "      <td>No</td>\n",
       "    </tr>\n",
       "    <tr>\n",
       "      <th>2</th>\n",
       "      <td>F</td>\n",
       "      <td>2016-04-29T16:19:04Z</td>\n",
       "      <td>2016-04-29T00:00:00Z</td>\n",
       "      <td>62</td>\n",
       "      <td>MATA DA PRAIA</td>\n",
       "      <td>0</td>\n",
       "      <td>0</td>\n",
       "      <td>0</td>\n",
       "      <td>0</td>\n",
       "      <td>0</td>\n",
       "      <td>0</td>\n",
       "      <td>No</td>\n",
       "    </tr>\n",
       "    <tr>\n",
       "      <th>3</th>\n",
       "      <td>F</td>\n",
       "      <td>2016-04-29T17:29:31Z</td>\n",
       "      <td>2016-04-29T00:00:00Z</td>\n",
       "      <td>8</td>\n",
       "      <td>PONTAL DE CAMBURI</td>\n",
       "      <td>0</td>\n",
       "      <td>0</td>\n",
       "      <td>0</td>\n",
       "      <td>0</td>\n",
       "      <td>0</td>\n",
       "      <td>0</td>\n",
       "      <td>No</td>\n",
       "    </tr>\n",
       "    <tr>\n",
       "      <th>4</th>\n",
       "      <td>F</td>\n",
       "      <td>2016-04-29T16:07:23Z</td>\n",
       "      <td>2016-04-29T00:00:00Z</td>\n",
       "      <td>56</td>\n",
       "      <td>JARDIM DA PENHA</td>\n",
       "      <td>0</td>\n",
       "      <td>1</td>\n",
       "      <td>1</td>\n",
       "      <td>0</td>\n",
       "      <td>0</td>\n",
       "      <td>0</td>\n",
       "      <td>No</td>\n",
       "    </tr>\n",
       "  </tbody>\n",
       "</table>\n",
       "</div>"
      ],
      "text/plain": [
       "  Gender          ScheduledDay        AppointmentDay  Age      Neighbourhood  \\\n",
       "0      F  2016-04-29T18:38:08Z  2016-04-29T00:00:00Z   62    JARDIM DA PENHA   \n",
       "1      M  2016-04-29T16:08:27Z  2016-04-29T00:00:00Z   56    JARDIM DA PENHA   \n",
       "2      F  2016-04-29T16:19:04Z  2016-04-29T00:00:00Z   62      MATA DA PRAIA   \n",
       "3      F  2016-04-29T17:29:31Z  2016-04-29T00:00:00Z    8  PONTAL DE CAMBURI   \n",
       "4      F  2016-04-29T16:07:23Z  2016-04-29T00:00:00Z   56    JARDIM DA PENHA   \n",
       "\n",
       "   Scholarship  Hipertension  Diabetes  Alcoholism  Handcap  SMS_received  \\\n",
       "0            0             1         0           0        0             0   \n",
       "1            0             0         0           0        0             0   \n",
       "2            0             0         0           0        0             0   \n",
       "3            0             0         0           0        0             0   \n",
       "4            0             1         1           0        0             0   \n",
       "\n",
       "  No-show  \n",
       "0      No  \n",
       "1      No  \n",
       "2      No  \n",
       "3      No  \n",
       "4      No  "
      ]
     },
     "execution_count": 7,
     "metadata": {},
     "output_type": "execute_result"
    }
   ],
   "source": [
    "df.drop(columns = ['PatientId', 'AppointmentID'], axis = 1, inplace = True)\n",
    "df.head()"
   ]
  },
  {
   "cell_type": "markdown",
   "metadata": {},
   "source": [
    "#### Rename columns for consistency (underscores instead of spaces, lower letters for everything, and some typo corrections):"
   ]
  },
  {
   "cell_type": "code",
   "execution_count": 8,
   "metadata": {
    "scrolled": true
   },
   "outputs": [
    {
     "data": {
      "text/html": [
       "<div>\n",
       "<style scoped>\n",
       "    .dataframe tbody tr th:only-of-type {\n",
       "        vertical-align: middle;\n",
       "    }\n",
       "\n",
       "    .dataframe tbody tr th {\n",
       "        vertical-align: top;\n",
       "    }\n",
       "\n",
       "    .dataframe thead th {\n",
       "        text-align: right;\n",
       "    }\n",
       "</style>\n",
       "<table border=\"1\" class=\"dataframe\">\n",
       "  <thead>\n",
       "    <tr style=\"text-align: right;\">\n",
       "      <th></th>\n",
       "      <th>gender</th>\n",
       "      <th>scheduled_day</th>\n",
       "      <th>appointment_day</th>\n",
       "      <th>age</th>\n",
       "      <th>neighbourhood</th>\n",
       "      <th>scholarship</th>\n",
       "      <th>hypertension</th>\n",
       "      <th>diabetes</th>\n",
       "      <th>alcoholism</th>\n",
       "      <th>handicap</th>\n",
       "      <th>sms_received</th>\n",
       "      <th>no_show</th>\n",
       "    </tr>\n",
       "  </thead>\n",
       "  <tbody>\n",
       "    <tr>\n",
       "      <th>0</th>\n",
       "      <td>F</td>\n",
       "      <td>2016-04-29T18:38:08Z</td>\n",
       "      <td>2016-04-29T00:00:00Z</td>\n",
       "      <td>62</td>\n",
       "      <td>JARDIM DA PENHA</td>\n",
       "      <td>0</td>\n",
       "      <td>1</td>\n",
       "      <td>0</td>\n",
       "      <td>0</td>\n",
       "      <td>0</td>\n",
       "      <td>0</td>\n",
       "      <td>No</td>\n",
       "    </tr>\n",
       "    <tr>\n",
       "      <th>1</th>\n",
       "      <td>M</td>\n",
       "      <td>2016-04-29T16:08:27Z</td>\n",
       "      <td>2016-04-29T00:00:00Z</td>\n",
       "      <td>56</td>\n",
       "      <td>JARDIM DA PENHA</td>\n",
       "      <td>0</td>\n",
       "      <td>0</td>\n",
       "      <td>0</td>\n",
       "      <td>0</td>\n",
       "      <td>0</td>\n",
       "      <td>0</td>\n",
       "      <td>No</td>\n",
       "    </tr>\n",
       "    <tr>\n",
       "      <th>2</th>\n",
       "      <td>F</td>\n",
       "      <td>2016-04-29T16:19:04Z</td>\n",
       "      <td>2016-04-29T00:00:00Z</td>\n",
       "      <td>62</td>\n",
       "      <td>MATA DA PRAIA</td>\n",
       "      <td>0</td>\n",
       "      <td>0</td>\n",
       "      <td>0</td>\n",
       "      <td>0</td>\n",
       "      <td>0</td>\n",
       "      <td>0</td>\n",
       "      <td>No</td>\n",
       "    </tr>\n",
       "    <tr>\n",
       "      <th>3</th>\n",
       "      <td>F</td>\n",
       "      <td>2016-04-29T17:29:31Z</td>\n",
       "      <td>2016-04-29T00:00:00Z</td>\n",
       "      <td>8</td>\n",
       "      <td>PONTAL DE CAMBURI</td>\n",
       "      <td>0</td>\n",
       "      <td>0</td>\n",
       "      <td>0</td>\n",
       "      <td>0</td>\n",
       "      <td>0</td>\n",
       "      <td>0</td>\n",
       "      <td>No</td>\n",
       "    </tr>\n",
       "    <tr>\n",
       "      <th>4</th>\n",
       "      <td>F</td>\n",
       "      <td>2016-04-29T16:07:23Z</td>\n",
       "      <td>2016-04-29T00:00:00Z</td>\n",
       "      <td>56</td>\n",
       "      <td>JARDIM DA PENHA</td>\n",
       "      <td>0</td>\n",
       "      <td>1</td>\n",
       "      <td>1</td>\n",
       "      <td>0</td>\n",
       "      <td>0</td>\n",
       "      <td>0</td>\n",
       "      <td>No</td>\n",
       "    </tr>\n",
       "  </tbody>\n",
       "</table>\n",
       "</div>"
      ],
      "text/plain": [
       "  gender         scheduled_day       appointment_day  age      neighbourhood  \\\n",
       "0      F  2016-04-29T18:38:08Z  2016-04-29T00:00:00Z   62    JARDIM DA PENHA   \n",
       "1      M  2016-04-29T16:08:27Z  2016-04-29T00:00:00Z   56    JARDIM DA PENHA   \n",
       "2      F  2016-04-29T16:19:04Z  2016-04-29T00:00:00Z   62      MATA DA PRAIA   \n",
       "3      F  2016-04-29T17:29:31Z  2016-04-29T00:00:00Z    8  PONTAL DE CAMBURI   \n",
       "4      F  2016-04-29T16:07:23Z  2016-04-29T00:00:00Z   56    JARDIM DA PENHA   \n",
       "\n",
       "   scholarship  hypertension  diabetes  alcoholism  handicap  sms_received  \\\n",
       "0            0             1         0           0         0             0   \n",
       "1            0             0         0           0         0             0   \n",
       "2            0             0         0           0         0             0   \n",
       "3            0             0         0           0         0             0   \n",
       "4            0             1         1           0         0             0   \n",
       "\n",
       "  no_show  \n",
       "0      No  \n",
       "1      No  \n",
       "2      No  \n",
       "3      No  \n",
       "4      No  "
      ]
     },
     "execution_count": 8,
     "metadata": {},
     "output_type": "execute_result"
    }
   ],
   "source": [
    "df.rename(columns = {'Gender': 'gender', 'ScheduledDay': 'scheduled_day', 'AppointmentDay': 'appointment_day',\n",
    "                     'Age': 'age', 'Neighbourhood': 'neighbourhood', 'Scholarship': 'scholarship',\n",
    "                     'Hipertension': 'hypertension', 'Diabetes': 'diabetes', 'Alcoholism': 'alcoholism',\n",
    "                     'Handcap': 'handicap', 'SMS_received': 'sms_received', 'No-show': 'no_show'}, inplace = True)\n",
    "df.head()"
   ]
  },
  {
   "cell_type": "markdown",
   "metadata": {},
   "source": [
    "#### Some data wrangling to decide which columns and entries are going to need cleaning:"
   ]
  },
  {
   "cell_type": "code",
   "execution_count": 9,
   "metadata": {},
   "outputs": [
    {
     "data": {
      "text/plain": [
       "(110527, 12)"
      ]
     },
     "execution_count": 9,
     "metadata": {},
     "output_type": "execute_result"
    }
   ],
   "source": [
    "df.shape"
   ]
  },
  {
   "cell_type": "markdown",
   "metadata": {},
   "source": [
    "#### Check for missing entries:"
   ]
  },
  {
   "cell_type": "code",
   "execution_count": 10,
   "metadata": {},
   "outputs": [
    {
     "data": {
      "text/plain": [
       "gender             0\n",
       "scheduled_day      0\n",
       "appointment_day    0\n",
       "age                0\n",
       "neighbourhood      0\n",
       "scholarship        0\n",
       "hypertension       0\n",
       "diabetes           0\n",
       "alcoholism         0\n",
       "handicap           0\n",
       "sms_received       0\n",
       "no_show            0\n",
       "dtype: int64"
      ]
     },
     "execution_count": 10,
     "metadata": {},
     "output_type": "execute_result"
    }
   ],
   "source": [
    "df.isna().sum()"
   ]
  },
  {
   "cell_type": "markdown",
   "metadata": {},
   "source": [
    "#### Make sure all ages are logical (no negative ages):"
   ]
  },
  {
   "cell_type": "code",
   "execution_count": 11,
   "metadata": {},
   "outputs": [
    {
     "data": {
      "text/plain": [
       "array([ 62,  56,   8,  76,  23,  39,  21,  19,  30,  29,  22,  28,  54,\n",
       "        15,  50,  40,  46,   4,  13,  65,  45,  51,  32,  12,  61,  38,\n",
       "        79,  18,  63,  64,  85,  59,  55,  71,  49,  78,  31,  58,  27,\n",
       "         6,   2,  11,   7,   0,   3,   1,  69,  68,  60,  67,  36,  10,\n",
       "        35,  20,  26,  34,  33,  16,  42,   5,  47,  17,  41,  44,  37,\n",
       "        24,  66,  77,  81,  70,  53,  75,  73,  52,  74,  43,  89,  57,\n",
       "        14,   9,  48,  83,  72,  25,  80,  87,  88,  84,  82,  90,  94,\n",
       "        86,  91,  98,  92,  96,  93,  95,  97, 102, 115, 100,  99,  -1],\n",
       "      dtype=int64)"
      ]
     },
     "execution_count": 11,
     "metadata": {},
     "output_type": "execute_result"
    }
   ],
   "source": [
    "df['age'].unique()"
   ]
  },
  {
   "cell_type": "code",
   "execution_count": 12,
   "metadata": {},
   "outputs": [
    {
     "data": {
      "text/plain": [
       "array(['JARDIM DA PENHA', 'MATA DA PRAIA', 'PONTAL DE CAMBURI',\n",
       "       'REPÚBLICA', 'GOIABEIRAS', 'ANDORINHAS', 'CONQUISTA',\n",
       "       'NOVA PALESTINA', 'DA PENHA', 'TABUAZEIRO', 'BENTO FERREIRA',\n",
       "       'SÃO PEDRO', 'SANTA MARTHA', 'SÃO CRISTÓVÃO', 'MARUÍPE',\n",
       "       'GRANDE VITÓRIA', 'SÃO BENEDITO', 'ILHA DAS CAIEIRAS',\n",
       "       'SANTO ANDRÉ', 'SOLON BORGES', 'BONFIM', 'JARDIM CAMBURI',\n",
       "       'MARIA ORTIZ', 'JABOUR', 'ANTÔNIO HONÓRIO', 'RESISTÊNCIA',\n",
       "       'ILHA DE SANTA MARIA', 'JUCUTUQUARA', 'MONTE BELO',\n",
       "       'MÁRIO CYPRESTE', 'SANTO ANTÔNIO', 'BELA VISTA', 'PRAIA DO SUÁ',\n",
       "       'SANTA HELENA', 'ITARARÉ', 'INHANGUETÁ', 'UNIVERSITÁRIO',\n",
       "       'SÃO JOSÉ', 'REDENÇÃO', 'SANTA CLARA', 'CENTRO', 'PARQUE MOSCOSO',\n",
       "       'DO MOSCOSO', 'SANTOS DUMONT', 'CARATOÍRA', 'ARIOVALDO FAVALESSA',\n",
       "       'ILHA DO FRADE', 'GURIGICA', 'JOANA D´ARC', 'CONSOLAÇÃO',\n",
       "       'PRAIA DO CANTO', 'BOA VISTA', 'MORADA DE CAMBURI', 'SANTA LUÍZA',\n",
       "       'SANTA LÚCIA', 'BARRO VERMELHO', 'ESTRELINHA', 'FORTE SÃO JOÃO',\n",
       "       'FONTE GRANDE', 'ENSEADA DO SUÁ', 'SANTOS REIS', 'PIEDADE',\n",
       "       'JESUS DE NAZARETH', 'SANTA TEREZA', 'CRUZAMENTO',\n",
       "       'ILHA DO PRÍNCIPE', 'ROMÃO', 'COMDUSA', 'SANTA CECÍLIA',\n",
       "       'VILA RUBIM', 'DE LOURDES', 'DO QUADRO', 'DO CABRAL', 'HORTO',\n",
       "       'SEGURANÇA DO LAR', 'ILHA DO BOI', 'FRADINHOS', 'NAZARETH',\n",
       "       'AEROPORTO', 'ILHAS OCEÂNICAS DE TRINDADE', 'PARQUE INDUSTRIAL'],\n",
       "      dtype=object)"
      ]
     },
     "execution_count": 12,
     "metadata": {},
     "output_type": "execute_result"
    }
   ],
   "source": [
    "df['neighbourhood'].unique()"
   ]
  },
  {
   "cell_type": "markdown",
   "metadata": {},
   "source": [
    "#### Verify no entries other than 1 or 0 are in any of the binary columns:"
   ]
  },
  {
   "cell_type": "code",
   "execution_count": 13,
   "metadata": {},
   "outputs": [
    {
     "data": {
      "text/plain": [
       "array([0, 1], dtype=int64)"
      ]
     },
     "execution_count": 13,
     "metadata": {},
     "output_type": "execute_result"
    }
   ],
   "source": [
    "df['scholarship'].unique()"
   ]
  },
  {
   "cell_type": "code",
   "execution_count": 14,
   "metadata": {},
   "outputs": [
    {
     "data": {
      "text/plain": [
       "array([1, 0], dtype=int64)"
      ]
     },
     "execution_count": 14,
     "metadata": {},
     "output_type": "execute_result"
    }
   ],
   "source": [
    "df['hypertension'].unique()"
   ]
  },
  {
   "cell_type": "code",
   "execution_count": 15,
   "metadata": {},
   "outputs": [
    {
     "data": {
      "text/plain": [
       "array([0, 1], dtype=int64)"
      ]
     },
     "execution_count": 15,
     "metadata": {},
     "output_type": "execute_result"
    }
   ],
   "source": [
    "df['diabetes'].unique()"
   ]
  },
  {
   "cell_type": "code",
   "execution_count": 16,
   "metadata": {},
   "outputs": [
    {
     "data": {
      "text/plain": [
       "array([0, 1], dtype=int64)"
      ]
     },
     "execution_count": 16,
     "metadata": {},
     "output_type": "execute_result"
    }
   ],
   "source": [
    "df['alcoholism'].unique()"
   ]
  },
  {
   "cell_type": "code",
   "execution_count": 17,
   "metadata": {},
   "outputs": [
    {
     "data": {
      "text/plain": [
       "array([0, 1, 2, 3, 4], dtype=int64)"
      ]
     },
     "execution_count": 17,
     "metadata": {},
     "output_type": "execute_result"
    }
   ],
   "source": [
    "df['handicap'].unique()"
   ]
  },
  {
   "cell_type": "markdown",
   "metadata": {},
   "source": [
    "#### Check how many entries other than 1 or 0 are in the handicap column:"
   ]
  },
  {
   "cell_type": "code",
   "execution_count": 18,
   "metadata": {},
   "outputs": [
    {
     "data": {
      "text/plain": [
       "199"
      ]
     },
     "execution_count": 18,
     "metadata": {},
     "output_type": "execute_result"
    }
   ],
   "source": [
    "df[df['handicap'].isin([2, 3, 4])].shape[0]"
   ]
  },
  {
   "cell_type": "code",
   "execution_count": 19,
   "metadata": {},
   "outputs": [
    {
     "data": {
      "text/plain": [
       "array([0, 1], dtype=int64)"
      ]
     },
     "execution_count": 19,
     "metadata": {},
     "output_type": "execute_result"
    }
   ],
   "source": [
    "df['sms_received'].unique()"
   ]
  },
  {
   "cell_type": "code",
   "execution_count": 20,
   "metadata": {},
   "outputs": [
    {
     "data": {
      "text/plain": [
       "array(['No', 'Yes'], dtype=object)"
      ]
     },
     "execution_count": 20,
     "metadata": {},
     "output_type": "execute_result"
    }
   ],
   "source": [
    "df['no_show'].unique()"
   ]
  },
  {
   "cell_type": "markdown",
   "metadata": {},
   "source": [
    "#### Check datatypes for all columns:"
   ]
  },
  {
   "cell_type": "code",
   "execution_count": 21,
   "metadata": {},
   "outputs": [
    {
     "name": "stdout",
     "output_type": "stream",
     "text": [
      "<class 'pandas.core.frame.DataFrame'>\n",
      "RangeIndex: 110527 entries, 0 to 110526\n",
      "Data columns (total 12 columns):\n",
      " #   Column           Non-Null Count   Dtype \n",
      "---  ------           --------------   ----- \n",
      " 0   gender           110527 non-null  object\n",
      " 1   scheduled_day    110527 non-null  object\n",
      " 2   appointment_day  110527 non-null  object\n",
      " 3   age              110527 non-null  int64 \n",
      " 4   neighbourhood    110527 non-null  object\n",
      " 5   scholarship      110527 non-null  int64 \n",
      " 6   hypertension     110527 non-null  int64 \n",
      " 7   diabetes         110527 non-null  int64 \n",
      " 8   alcoholism       110527 non-null  int64 \n",
      " 9   handicap         110527 non-null  int64 \n",
      " 10  sms_received     110527 non-null  int64 \n",
      " 11  no_show          110527 non-null  object\n",
      "dtypes: int64(7), object(5)\n",
      "memory usage: 10.1+ MB\n"
     ]
    }
   ],
   "source": [
    "df.info()"
   ]
  },
  {
   "cell_type": "code",
   "execution_count": 22,
   "metadata": {},
   "outputs": [
    {
     "data": {
      "text/plain": [
       "103549"
      ]
     },
     "execution_count": 22,
     "metadata": {},
     "output_type": "execute_result"
    }
   ],
   "source": [
    "df['scheduled_day'].nunique()"
   ]
  },
  {
   "cell_type": "code",
   "execution_count": 23,
   "metadata": {},
   "outputs": [
    {
     "data": {
      "text/plain": [
       "27"
      ]
     },
     "execution_count": 23,
     "metadata": {},
     "output_type": "execute_result"
    }
   ],
   "source": [
    "df['appointment_day'].nunique()"
   ]
  },
  {
   "cell_type": "code",
   "execution_count": 24,
   "metadata": {},
   "outputs": [
    {
     "data": {
      "text/plain": [
       "array(['2016-04-29T00:00:00Z', '2016-05-03T00:00:00Z',\n",
       "       '2016-05-10T00:00:00Z', '2016-05-17T00:00:00Z',\n",
       "       '2016-05-24T00:00:00Z', '2016-05-31T00:00:00Z',\n",
       "       '2016-05-02T00:00:00Z', '2016-05-30T00:00:00Z',\n",
       "       '2016-05-16T00:00:00Z', '2016-05-04T00:00:00Z',\n",
       "       '2016-05-19T00:00:00Z', '2016-05-12T00:00:00Z',\n",
       "       '2016-05-06T00:00:00Z', '2016-05-20T00:00:00Z',\n",
       "       '2016-05-05T00:00:00Z', '2016-05-13T00:00:00Z',\n",
       "       '2016-05-09T00:00:00Z', '2016-05-25T00:00:00Z',\n",
       "       '2016-05-11T00:00:00Z', '2016-05-18T00:00:00Z',\n",
       "       '2016-05-14T00:00:00Z', '2016-06-02T00:00:00Z',\n",
       "       '2016-06-03T00:00:00Z', '2016-06-06T00:00:00Z',\n",
       "       '2016-06-07T00:00:00Z', '2016-06-01T00:00:00Z',\n",
       "       '2016-06-08T00:00:00Z'], dtype=object)"
      ]
     },
     "execution_count": 24,
     "metadata": {},
     "output_type": "execute_result"
    }
   ],
   "source": [
    "df['appointment_day'].unique()"
   ]
  },
  {
   "cell_type": "markdown",
   "metadata": {},
   "source": [
    "#### Check for duplicates:"
   ]
  },
  {
   "cell_type": "code",
   "execution_count": 25,
   "metadata": {},
   "outputs": [
    {
     "data": {
      "text/plain": [
       "635"
      ]
     },
     "execution_count": 25,
     "metadata": {},
     "output_type": "execute_result"
    }
   ],
   "source": [
    "df.duplicated().sum()"
   ]
  },
  {
   "cell_type": "markdown",
   "metadata": {},
   "source": [
    "### Findings from the above wrangling:\n",
    "1- Columns (gender, neighbourhood, scholarship, hypertension, diabetes, alcoholism, sms_received, no_show) do not need cleaning.<br>\n",
    "2- Columns (scheduled_day, appointment_day) need to be converted to timestamps.<br>\n",
    "3- A column for week day name would need to be added.<br>\n",
    "4- Column (age) has some negative entries, these must be disregarded.<br>\n",
    "5- Column (handicap) has some entries different than 1 or 0 (2, 3, 4), these entries are all going to be converted to 1.<br>\n",
    "6- 635 entries are duplicates, given how many different variables we have, we can assume these duplicates are indeed duplicates, not identical entries, and hence should be removed."
   ]
  },
  {
   "cell_type": "markdown",
   "metadata": {},
   "source": [
    "### Cleaning the data:"
   ]
  },
  {
   "cell_type": "markdown",
   "metadata": {},
   "source": [
    "#### Drop negative age entries:"
   ]
  },
  {
   "cell_type": "code",
   "execution_count": 26,
   "metadata": {},
   "outputs": [
    {
     "data": {
      "text/plain": [
       "(110527, 12)"
      ]
     },
     "execution_count": 26,
     "metadata": {},
     "output_type": "execute_result"
    }
   ],
   "source": [
    "df.shape"
   ]
  },
  {
   "cell_type": "code",
   "execution_count": 27,
   "metadata": {},
   "outputs": [
    {
     "data": {
      "text/plain": [
       "Int64Index([99832], dtype='int64')"
      ]
     },
     "execution_count": 27,
     "metadata": {},
     "output_type": "execute_result"
    }
   ],
   "source": [
    "df[df['age'] < 0].index"
   ]
  },
  {
   "cell_type": "code",
   "execution_count": 28,
   "metadata": {},
   "outputs": [],
   "source": [
    "df.drop(df[df['age'] < 0].index, inplace = True)"
   ]
  },
  {
   "cell_type": "code",
   "execution_count": 29,
   "metadata": {},
   "outputs": [
    {
     "data": {
      "text/html": [
       "<div>\n",
       "<style scoped>\n",
       "    .dataframe tbody tr th:only-of-type {\n",
       "        vertical-align: middle;\n",
       "    }\n",
       "\n",
       "    .dataframe tbody tr th {\n",
       "        vertical-align: top;\n",
       "    }\n",
       "\n",
       "    .dataframe thead th {\n",
       "        text-align: right;\n",
       "    }\n",
       "</style>\n",
       "<table border=\"1\" class=\"dataframe\">\n",
       "  <thead>\n",
       "    <tr style=\"text-align: right;\">\n",
       "      <th></th>\n",
       "      <th>gender</th>\n",
       "      <th>scheduled_day</th>\n",
       "      <th>appointment_day</th>\n",
       "      <th>age</th>\n",
       "      <th>neighbourhood</th>\n",
       "      <th>scholarship</th>\n",
       "      <th>hypertension</th>\n",
       "      <th>diabetes</th>\n",
       "      <th>alcoholism</th>\n",
       "      <th>handicap</th>\n",
       "      <th>sms_received</th>\n",
       "      <th>no_show</th>\n",
       "    </tr>\n",
       "  </thead>\n",
       "  <tbody>\n",
       "  </tbody>\n",
       "</table>\n",
       "</div>"
      ],
      "text/plain": [
       "Empty DataFrame\n",
       "Columns: [gender, scheduled_day, appointment_day, age, neighbourhood, scholarship, hypertension, diabetes, alcoholism, handicap, sms_received, no_show]\n",
       "Index: []"
      ]
     },
     "execution_count": 29,
     "metadata": {},
     "output_type": "execute_result"
    }
   ],
   "source": [
    "df[df['age'] < 0]"
   ]
  },
  {
   "cell_type": "code",
   "execution_count": 30,
   "metadata": {},
   "outputs": [
    {
     "data": {
      "text/plain": [
       "(110526, 12)"
      ]
     },
     "execution_count": 30,
     "metadata": {},
     "output_type": "execute_result"
    }
   ],
   "source": [
    "df.shape"
   ]
  },
  {
   "cell_type": "markdown",
   "metadata": {},
   "source": [
    "#### Change all (2, 3, 4) handicap entries to 1:"
   ]
  },
  {
   "cell_type": "code",
   "execution_count": 31,
   "metadata": {},
   "outputs": [
    {
     "data": {
      "text/plain": [
       "199"
      ]
     },
     "execution_count": 31,
     "metadata": {},
     "output_type": "execute_result"
    }
   ],
   "source": [
    "df[df['handicap'].isin([2, 3, 4])].shape[0]"
   ]
  },
  {
   "cell_type": "code",
   "execution_count": 32,
   "metadata": {},
   "outputs": [],
   "source": [
    "# Extract index of all rows that have handicap = 2 or 3 or 4\n",
    "temp_index = list(df[df['handicap'].isin([2, 3, 4])].index)"
   ]
  },
  {
   "cell_type": "code",
   "execution_count": 33,
   "metadata": {},
   "outputs": [],
   "source": [
    "# Loop over every index in the list of indexes, update the relevant entry of handicap to be 1 instead\n",
    "for index in temp_index:\n",
    "    df.loc[index, 'handicap'] = 1"
   ]
  },
  {
   "cell_type": "markdown",
   "metadata": {},
   "source": [
    "#### Verify all entries where handicap = 2 or 3 or 4 are now gone:"
   ]
  },
  {
   "cell_type": "code",
   "execution_count": 34,
   "metadata": {},
   "outputs": [
    {
     "data": {
      "text/plain": [
       "0"
      ]
     },
     "execution_count": 34,
     "metadata": {},
     "output_type": "execute_result"
    }
   ],
   "source": [
    "df[df['handicap'].isin([2, 3, 4])].shape[0]"
   ]
  },
  {
   "cell_type": "code",
   "execution_count": 35,
   "metadata": {},
   "outputs": [
    {
     "data": {
      "text/plain": [
       "(110526, 12)"
      ]
     },
     "execution_count": 35,
     "metadata": {},
     "output_type": "execute_result"
    }
   ],
   "source": [
    "df.shape"
   ]
  },
  {
   "cell_type": "code",
   "execution_count": 36,
   "metadata": {},
   "outputs": [
    {
     "data": {
      "text/plain": [
       "array([0, 1], dtype=int64)"
      ]
     },
     "execution_count": 36,
     "metadata": {},
     "output_type": "execute_result"
    }
   ],
   "source": [
    "df['handicap'].unique()"
   ]
  },
  {
   "cell_type": "markdown",
   "metadata": {},
   "source": [
    "#### Remove duplicates:"
   ]
  },
  {
   "cell_type": "code",
   "execution_count": 37,
   "metadata": {},
   "outputs": [],
   "source": [
    "df.drop_duplicates(inplace = True)"
   ]
  },
  {
   "cell_type": "code",
   "execution_count": 38,
   "metadata": {},
   "outputs": [
    {
     "data": {
      "text/plain": [
       "(109891, 12)"
      ]
     },
     "execution_count": 38,
     "metadata": {},
     "output_type": "execute_result"
    }
   ],
   "source": [
    "df.shape"
   ]
  },
  {
   "cell_type": "code",
   "execution_count": 39,
   "metadata": {},
   "outputs": [
    {
     "data": {
      "text/plain": [
       "0"
      ]
     },
     "execution_count": 39,
     "metadata": {},
     "output_type": "execute_result"
    }
   ],
   "source": [
    "df.duplicated().sum()"
   ]
  },
  {
   "cell_type": "markdown",
   "metadata": {},
   "source": [
    "#### Dates"
   ]
  },
  {
   "cell_type": "code",
   "execution_count": 40,
   "metadata": {},
   "outputs": [],
   "source": [
    "df['scheduled_day'] = pd.to_datetime(df['scheduled_day'])\n",
    "df['appointment_day'] = pd.to_datetime(df['appointment_day'])"
   ]
  },
  {
   "cell_type": "code",
   "execution_count": 41,
   "metadata": {
    "scrolled": true
   },
   "outputs": [
    {
     "name": "stdout",
     "output_type": "stream",
     "text": [
      "datetime64[ns, UTC]\n",
      "datetime64[ns, UTC]\n"
     ]
    },
    {
     "data": {
      "text/html": [
       "<div>\n",
       "<style scoped>\n",
       "    .dataframe tbody tr th:only-of-type {\n",
       "        vertical-align: middle;\n",
       "    }\n",
       "\n",
       "    .dataframe tbody tr th {\n",
       "        vertical-align: top;\n",
       "    }\n",
       "\n",
       "    .dataframe thead th {\n",
       "        text-align: right;\n",
       "    }\n",
       "</style>\n",
       "<table border=\"1\" class=\"dataframe\">\n",
       "  <thead>\n",
       "    <tr style=\"text-align: right;\">\n",
       "      <th></th>\n",
       "      <th>gender</th>\n",
       "      <th>scheduled_day</th>\n",
       "      <th>appointment_day</th>\n",
       "      <th>age</th>\n",
       "      <th>neighbourhood</th>\n",
       "      <th>scholarship</th>\n",
       "      <th>hypertension</th>\n",
       "      <th>diabetes</th>\n",
       "      <th>alcoholism</th>\n",
       "      <th>handicap</th>\n",
       "      <th>sms_received</th>\n",
       "      <th>no_show</th>\n",
       "    </tr>\n",
       "  </thead>\n",
       "  <tbody>\n",
       "    <tr>\n",
       "      <th>0</th>\n",
       "      <td>F</td>\n",
       "      <td>2016-04-29 18:38:08+00:00</td>\n",
       "      <td>2016-04-29 00:00:00+00:00</td>\n",
       "      <td>62</td>\n",
       "      <td>JARDIM DA PENHA</td>\n",
       "      <td>0</td>\n",
       "      <td>1</td>\n",
       "      <td>0</td>\n",
       "      <td>0</td>\n",
       "      <td>0</td>\n",
       "      <td>0</td>\n",
       "      <td>No</td>\n",
       "    </tr>\n",
       "    <tr>\n",
       "      <th>1</th>\n",
       "      <td>M</td>\n",
       "      <td>2016-04-29 16:08:27+00:00</td>\n",
       "      <td>2016-04-29 00:00:00+00:00</td>\n",
       "      <td>56</td>\n",
       "      <td>JARDIM DA PENHA</td>\n",
       "      <td>0</td>\n",
       "      <td>0</td>\n",
       "      <td>0</td>\n",
       "      <td>0</td>\n",
       "      <td>0</td>\n",
       "      <td>0</td>\n",
       "      <td>No</td>\n",
       "    </tr>\n",
       "    <tr>\n",
       "      <th>2</th>\n",
       "      <td>F</td>\n",
       "      <td>2016-04-29 16:19:04+00:00</td>\n",
       "      <td>2016-04-29 00:00:00+00:00</td>\n",
       "      <td>62</td>\n",
       "      <td>MATA DA PRAIA</td>\n",
       "      <td>0</td>\n",
       "      <td>0</td>\n",
       "      <td>0</td>\n",
       "      <td>0</td>\n",
       "      <td>0</td>\n",
       "      <td>0</td>\n",
       "      <td>No</td>\n",
       "    </tr>\n",
       "    <tr>\n",
       "      <th>3</th>\n",
       "      <td>F</td>\n",
       "      <td>2016-04-29 17:29:31+00:00</td>\n",
       "      <td>2016-04-29 00:00:00+00:00</td>\n",
       "      <td>8</td>\n",
       "      <td>PONTAL DE CAMBURI</td>\n",
       "      <td>0</td>\n",
       "      <td>0</td>\n",
       "      <td>0</td>\n",
       "      <td>0</td>\n",
       "      <td>0</td>\n",
       "      <td>0</td>\n",
       "      <td>No</td>\n",
       "    </tr>\n",
       "    <tr>\n",
       "      <th>4</th>\n",
       "      <td>F</td>\n",
       "      <td>2016-04-29 16:07:23+00:00</td>\n",
       "      <td>2016-04-29 00:00:00+00:00</td>\n",
       "      <td>56</td>\n",
       "      <td>JARDIM DA PENHA</td>\n",
       "      <td>0</td>\n",
       "      <td>1</td>\n",
       "      <td>1</td>\n",
       "      <td>0</td>\n",
       "      <td>0</td>\n",
       "      <td>0</td>\n",
       "      <td>No</td>\n",
       "    </tr>\n",
       "  </tbody>\n",
       "</table>\n",
       "</div>"
      ],
      "text/plain": [
       "  gender             scheduled_day           appointment_day  age  \\\n",
       "0      F 2016-04-29 18:38:08+00:00 2016-04-29 00:00:00+00:00   62   \n",
       "1      M 2016-04-29 16:08:27+00:00 2016-04-29 00:00:00+00:00   56   \n",
       "2      F 2016-04-29 16:19:04+00:00 2016-04-29 00:00:00+00:00   62   \n",
       "3      F 2016-04-29 17:29:31+00:00 2016-04-29 00:00:00+00:00    8   \n",
       "4      F 2016-04-29 16:07:23+00:00 2016-04-29 00:00:00+00:00   56   \n",
       "\n",
       "       neighbourhood  scholarship  hypertension  diabetes  alcoholism  \\\n",
       "0    JARDIM DA PENHA            0             1         0           0   \n",
       "1    JARDIM DA PENHA            0             0         0           0   \n",
       "2      MATA DA PRAIA            0             0         0           0   \n",
       "3  PONTAL DE CAMBURI            0             0         0           0   \n",
       "4    JARDIM DA PENHA            0             1         1           0   \n",
       "\n",
       "   handicap  sms_received no_show  \n",
       "0         0             0      No  \n",
       "1         0             0      No  \n",
       "2         0             0      No  \n",
       "3         0             0      No  \n",
       "4         0             0      No  "
      ]
     },
     "execution_count": 41,
     "metadata": {},
     "output_type": "execute_result"
    }
   ],
   "source": [
    "print(df['scheduled_day'].dtype)\n",
    "print(df['appointment_day'].dtype)\n",
    "df.head()"
   ]
  },
  {
   "cell_type": "markdown",
   "metadata": {},
   "source": [
    "#### Since appointment day data does not have hours, I'm also going to be disregarding hours from scheduled_day columns. The analysis will only be done on day level, not day and hour level. This is a limitation reader should be aware of."
   ]
  },
  {
   "cell_type": "code",
   "execution_count": 42,
   "metadata": {},
   "outputs": [],
   "source": [
    "df['scheduled_day'] = df['scheduled_day'].dt.date\n",
    "df['appointment_day'] = df['appointment_day'].dt.date"
   ]
  },
  {
   "cell_type": "code",
   "execution_count": 43,
   "metadata": {},
   "outputs": [
    {
     "data": {
      "text/html": [
       "<div>\n",
       "<style scoped>\n",
       "    .dataframe tbody tr th:only-of-type {\n",
       "        vertical-align: middle;\n",
       "    }\n",
       "\n",
       "    .dataframe tbody tr th {\n",
       "        vertical-align: top;\n",
       "    }\n",
       "\n",
       "    .dataframe thead th {\n",
       "        text-align: right;\n",
       "    }\n",
       "</style>\n",
       "<table border=\"1\" class=\"dataframe\">\n",
       "  <thead>\n",
       "    <tr style=\"text-align: right;\">\n",
       "      <th></th>\n",
       "      <th>gender</th>\n",
       "      <th>scheduled_day</th>\n",
       "      <th>appointment_day</th>\n",
       "      <th>age</th>\n",
       "      <th>neighbourhood</th>\n",
       "      <th>scholarship</th>\n",
       "      <th>hypertension</th>\n",
       "      <th>diabetes</th>\n",
       "      <th>alcoholism</th>\n",
       "      <th>handicap</th>\n",
       "      <th>sms_received</th>\n",
       "      <th>no_show</th>\n",
       "    </tr>\n",
       "  </thead>\n",
       "  <tbody>\n",
       "    <tr>\n",
       "      <th>0</th>\n",
       "      <td>F</td>\n",
       "      <td>2016-04-29</td>\n",
       "      <td>2016-04-29</td>\n",
       "      <td>62</td>\n",
       "      <td>JARDIM DA PENHA</td>\n",
       "      <td>0</td>\n",
       "      <td>1</td>\n",
       "      <td>0</td>\n",
       "      <td>0</td>\n",
       "      <td>0</td>\n",
       "      <td>0</td>\n",
       "      <td>No</td>\n",
       "    </tr>\n",
       "    <tr>\n",
       "      <th>1</th>\n",
       "      <td>M</td>\n",
       "      <td>2016-04-29</td>\n",
       "      <td>2016-04-29</td>\n",
       "      <td>56</td>\n",
       "      <td>JARDIM DA PENHA</td>\n",
       "      <td>0</td>\n",
       "      <td>0</td>\n",
       "      <td>0</td>\n",
       "      <td>0</td>\n",
       "      <td>0</td>\n",
       "      <td>0</td>\n",
       "      <td>No</td>\n",
       "    </tr>\n",
       "    <tr>\n",
       "      <th>2</th>\n",
       "      <td>F</td>\n",
       "      <td>2016-04-29</td>\n",
       "      <td>2016-04-29</td>\n",
       "      <td>62</td>\n",
       "      <td>MATA DA PRAIA</td>\n",
       "      <td>0</td>\n",
       "      <td>0</td>\n",
       "      <td>0</td>\n",
       "      <td>0</td>\n",
       "      <td>0</td>\n",
       "      <td>0</td>\n",
       "      <td>No</td>\n",
       "    </tr>\n",
       "    <tr>\n",
       "      <th>3</th>\n",
       "      <td>F</td>\n",
       "      <td>2016-04-29</td>\n",
       "      <td>2016-04-29</td>\n",
       "      <td>8</td>\n",
       "      <td>PONTAL DE CAMBURI</td>\n",
       "      <td>0</td>\n",
       "      <td>0</td>\n",
       "      <td>0</td>\n",
       "      <td>0</td>\n",
       "      <td>0</td>\n",
       "      <td>0</td>\n",
       "      <td>No</td>\n",
       "    </tr>\n",
       "    <tr>\n",
       "      <th>4</th>\n",
       "      <td>F</td>\n",
       "      <td>2016-04-29</td>\n",
       "      <td>2016-04-29</td>\n",
       "      <td>56</td>\n",
       "      <td>JARDIM DA PENHA</td>\n",
       "      <td>0</td>\n",
       "      <td>1</td>\n",
       "      <td>1</td>\n",
       "      <td>0</td>\n",
       "      <td>0</td>\n",
       "      <td>0</td>\n",
       "      <td>No</td>\n",
       "    </tr>\n",
       "  </tbody>\n",
       "</table>\n",
       "</div>"
      ],
      "text/plain": [
       "  gender scheduled_day appointment_day  age      neighbourhood  scholarship  \\\n",
       "0      F    2016-04-29      2016-04-29   62    JARDIM DA PENHA            0   \n",
       "1      M    2016-04-29      2016-04-29   56    JARDIM DA PENHA            0   \n",
       "2      F    2016-04-29      2016-04-29   62      MATA DA PRAIA            0   \n",
       "3      F    2016-04-29      2016-04-29    8  PONTAL DE CAMBURI            0   \n",
       "4      F    2016-04-29      2016-04-29   56    JARDIM DA PENHA            0   \n",
       "\n",
       "   hypertension  diabetes  alcoholism  handicap  sms_received no_show  \n",
       "0             1         0           0         0             0      No  \n",
       "1             0         0           0         0             0      No  \n",
       "2             0         0           0         0             0      No  \n",
       "3             0         0           0         0             0      No  \n",
       "4             1         1           0         0             0      No  "
      ]
     },
     "execution_count": 43,
     "metadata": {},
     "output_type": "execute_result"
    }
   ],
   "source": [
    "df.head()"
   ]
  },
  {
   "cell_type": "code",
   "execution_count": 44,
   "metadata": {},
   "outputs": [
    {
     "data": {
      "text/plain": [
       "gender               2\n",
       "scheduled_day      111\n",
       "appointment_day     27\n",
       "age                103\n",
       "neighbourhood       81\n",
       "scholarship          2\n",
       "hypertension         2\n",
       "diabetes             2\n",
       "alcoholism           2\n",
       "handicap             2\n",
       "sms_received         2\n",
       "no_show              2\n",
       "dtype: int64"
      ]
     },
     "execution_count": 44,
     "metadata": {},
     "output_type": "execute_result"
    }
   ],
   "source": [
    "df.nunique()"
   ]
  },
  {
   "cell_type": "markdown",
   "metadata": {},
   "source": [
    "#### Adding one extra column called 'appointment_lead_days', this is equal to appointment_day minus scheduled_day, and it represents how many days in advance a patient has booked an appointment."
   ]
  },
  {
   "cell_type": "code",
   "execution_count": 45,
   "metadata": {},
   "outputs": [],
   "source": [
    "df['appointment_lead_days'] = df['appointment_day'] - df['scheduled_day']"
   ]
  },
  {
   "cell_type": "code",
   "execution_count": 46,
   "metadata": {
    "scrolled": false
   },
   "outputs": [
    {
     "data": {
      "text/html": [
       "<div>\n",
       "<style scoped>\n",
       "    .dataframe tbody tr th:only-of-type {\n",
       "        vertical-align: middle;\n",
       "    }\n",
       "\n",
       "    .dataframe tbody tr th {\n",
       "        vertical-align: top;\n",
       "    }\n",
       "\n",
       "    .dataframe thead th {\n",
       "        text-align: right;\n",
       "    }\n",
       "</style>\n",
       "<table border=\"1\" class=\"dataframe\">\n",
       "  <thead>\n",
       "    <tr style=\"text-align: right;\">\n",
       "      <th></th>\n",
       "      <th>gender</th>\n",
       "      <th>scheduled_day</th>\n",
       "      <th>appointment_day</th>\n",
       "      <th>age</th>\n",
       "      <th>neighbourhood</th>\n",
       "      <th>scholarship</th>\n",
       "      <th>hypertension</th>\n",
       "      <th>diabetes</th>\n",
       "      <th>alcoholism</th>\n",
       "      <th>handicap</th>\n",
       "      <th>sms_received</th>\n",
       "      <th>no_show</th>\n",
       "      <th>appointment_lead_days</th>\n",
       "    </tr>\n",
       "  </thead>\n",
       "  <tbody>\n",
       "    <tr>\n",
       "      <th>0</th>\n",
       "      <td>F</td>\n",
       "      <td>2016-04-29</td>\n",
       "      <td>2016-04-29</td>\n",
       "      <td>62</td>\n",
       "      <td>JARDIM DA PENHA</td>\n",
       "      <td>0</td>\n",
       "      <td>1</td>\n",
       "      <td>0</td>\n",
       "      <td>0</td>\n",
       "      <td>0</td>\n",
       "      <td>0</td>\n",
       "      <td>No</td>\n",
       "      <td>0 days</td>\n",
       "    </tr>\n",
       "    <tr>\n",
       "      <th>1</th>\n",
       "      <td>M</td>\n",
       "      <td>2016-04-29</td>\n",
       "      <td>2016-04-29</td>\n",
       "      <td>56</td>\n",
       "      <td>JARDIM DA PENHA</td>\n",
       "      <td>0</td>\n",
       "      <td>0</td>\n",
       "      <td>0</td>\n",
       "      <td>0</td>\n",
       "      <td>0</td>\n",
       "      <td>0</td>\n",
       "      <td>No</td>\n",
       "      <td>0 days</td>\n",
       "    </tr>\n",
       "    <tr>\n",
       "      <th>2</th>\n",
       "      <td>F</td>\n",
       "      <td>2016-04-29</td>\n",
       "      <td>2016-04-29</td>\n",
       "      <td>62</td>\n",
       "      <td>MATA DA PRAIA</td>\n",
       "      <td>0</td>\n",
       "      <td>0</td>\n",
       "      <td>0</td>\n",
       "      <td>0</td>\n",
       "      <td>0</td>\n",
       "      <td>0</td>\n",
       "      <td>No</td>\n",
       "      <td>0 days</td>\n",
       "    </tr>\n",
       "    <tr>\n",
       "      <th>3</th>\n",
       "      <td>F</td>\n",
       "      <td>2016-04-29</td>\n",
       "      <td>2016-04-29</td>\n",
       "      <td>8</td>\n",
       "      <td>PONTAL DE CAMBURI</td>\n",
       "      <td>0</td>\n",
       "      <td>0</td>\n",
       "      <td>0</td>\n",
       "      <td>0</td>\n",
       "      <td>0</td>\n",
       "      <td>0</td>\n",
       "      <td>No</td>\n",
       "      <td>0 days</td>\n",
       "    </tr>\n",
       "    <tr>\n",
       "      <th>4</th>\n",
       "      <td>F</td>\n",
       "      <td>2016-04-29</td>\n",
       "      <td>2016-04-29</td>\n",
       "      <td>56</td>\n",
       "      <td>JARDIM DA PENHA</td>\n",
       "      <td>0</td>\n",
       "      <td>1</td>\n",
       "      <td>1</td>\n",
       "      <td>0</td>\n",
       "      <td>0</td>\n",
       "      <td>0</td>\n",
       "      <td>No</td>\n",
       "      <td>0 days</td>\n",
       "    </tr>\n",
       "  </tbody>\n",
       "</table>\n",
       "</div>"
      ],
      "text/plain": [
       "  gender scheduled_day appointment_day  age      neighbourhood  scholarship  \\\n",
       "0      F    2016-04-29      2016-04-29   62    JARDIM DA PENHA            0   \n",
       "1      M    2016-04-29      2016-04-29   56    JARDIM DA PENHA            0   \n",
       "2      F    2016-04-29      2016-04-29   62      MATA DA PRAIA            0   \n",
       "3      F    2016-04-29      2016-04-29    8  PONTAL DE CAMBURI            0   \n",
       "4      F    2016-04-29      2016-04-29   56    JARDIM DA PENHA            0   \n",
       "\n",
       "   hypertension  diabetes  alcoholism  handicap  sms_received no_show  \\\n",
       "0             1         0           0         0             0      No   \n",
       "1             0         0           0         0             0      No   \n",
       "2             0         0           0         0             0      No   \n",
       "3             0         0           0         0             0      No   \n",
       "4             1         1           0         0             0      No   \n",
       "\n",
       "  appointment_lead_days  \n",
       "0                0 days  \n",
       "1                0 days  \n",
       "2                0 days  \n",
       "3                0 days  \n",
       "4                0 days  "
      ]
     },
     "execution_count": 46,
     "metadata": {},
     "output_type": "execute_result"
    }
   ],
   "source": [
    "df.head()"
   ]
  },
  {
   "cell_type": "markdown",
   "metadata": {},
   "source": [
    "#### Adding one more column for week day name:"
   ]
  },
  {
   "cell_type": "code",
   "execution_count": 47,
   "metadata": {},
   "outputs": [],
   "source": [
    "df['appointment_day_name'] = pd.to_datetime(df['appointment_day']).dt.day_name()"
   ]
  },
  {
   "cell_type": "code",
   "execution_count": 48,
   "metadata": {},
   "outputs": [
    {
     "data": {
      "text/html": [
       "<div>\n",
       "<style scoped>\n",
       "    .dataframe tbody tr th:only-of-type {\n",
       "        vertical-align: middle;\n",
       "    }\n",
       "\n",
       "    .dataframe tbody tr th {\n",
       "        vertical-align: top;\n",
       "    }\n",
       "\n",
       "    .dataframe thead th {\n",
       "        text-align: right;\n",
       "    }\n",
       "</style>\n",
       "<table border=\"1\" class=\"dataframe\">\n",
       "  <thead>\n",
       "    <tr style=\"text-align: right;\">\n",
       "      <th></th>\n",
       "      <th>gender</th>\n",
       "      <th>scheduled_day</th>\n",
       "      <th>appointment_day</th>\n",
       "      <th>age</th>\n",
       "      <th>neighbourhood</th>\n",
       "      <th>scholarship</th>\n",
       "      <th>hypertension</th>\n",
       "      <th>diabetes</th>\n",
       "      <th>alcoholism</th>\n",
       "      <th>handicap</th>\n",
       "      <th>sms_received</th>\n",
       "      <th>no_show</th>\n",
       "      <th>appointment_lead_days</th>\n",
       "      <th>appointment_day_name</th>\n",
       "    </tr>\n",
       "  </thead>\n",
       "  <tbody>\n",
       "    <tr>\n",
       "      <th>0</th>\n",
       "      <td>F</td>\n",
       "      <td>2016-04-29</td>\n",
       "      <td>2016-04-29</td>\n",
       "      <td>62</td>\n",
       "      <td>JARDIM DA PENHA</td>\n",
       "      <td>0</td>\n",
       "      <td>1</td>\n",
       "      <td>0</td>\n",
       "      <td>0</td>\n",
       "      <td>0</td>\n",
       "      <td>0</td>\n",
       "      <td>No</td>\n",
       "      <td>0 days</td>\n",
       "      <td>Friday</td>\n",
       "    </tr>\n",
       "    <tr>\n",
       "      <th>1</th>\n",
       "      <td>M</td>\n",
       "      <td>2016-04-29</td>\n",
       "      <td>2016-04-29</td>\n",
       "      <td>56</td>\n",
       "      <td>JARDIM DA PENHA</td>\n",
       "      <td>0</td>\n",
       "      <td>0</td>\n",
       "      <td>0</td>\n",
       "      <td>0</td>\n",
       "      <td>0</td>\n",
       "      <td>0</td>\n",
       "      <td>No</td>\n",
       "      <td>0 days</td>\n",
       "      <td>Friday</td>\n",
       "    </tr>\n",
       "    <tr>\n",
       "      <th>2</th>\n",
       "      <td>F</td>\n",
       "      <td>2016-04-29</td>\n",
       "      <td>2016-04-29</td>\n",
       "      <td>62</td>\n",
       "      <td>MATA DA PRAIA</td>\n",
       "      <td>0</td>\n",
       "      <td>0</td>\n",
       "      <td>0</td>\n",
       "      <td>0</td>\n",
       "      <td>0</td>\n",
       "      <td>0</td>\n",
       "      <td>No</td>\n",
       "      <td>0 days</td>\n",
       "      <td>Friday</td>\n",
       "    </tr>\n",
       "    <tr>\n",
       "      <th>3</th>\n",
       "      <td>F</td>\n",
       "      <td>2016-04-29</td>\n",
       "      <td>2016-04-29</td>\n",
       "      <td>8</td>\n",
       "      <td>PONTAL DE CAMBURI</td>\n",
       "      <td>0</td>\n",
       "      <td>0</td>\n",
       "      <td>0</td>\n",
       "      <td>0</td>\n",
       "      <td>0</td>\n",
       "      <td>0</td>\n",
       "      <td>No</td>\n",
       "      <td>0 days</td>\n",
       "      <td>Friday</td>\n",
       "    </tr>\n",
       "    <tr>\n",
       "      <th>4</th>\n",
       "      <td>F</td>\n",
       "      <td>2016-04-29</td>\n",
       "      <td>2016-04-29</td>\n",
       "      <td>56</td>\n",
       "      <td>JARDIM DA PENHA</td>\n",
       "      <td>0</td>\n",
       "      <td>1</td>\n",
       "      <td>1</td>\n",
       "      <td>0</td>\n",
       "      <td>0</td>\n",
       "      <td>0</td>\n",
       "      <td>No</td>\n",
       "      <td>0 days</td>\n",
       "      <td>Friday</td>\n",
       "    </tr>\n",
       "  </tbody>\n",
       "</table>\n",
       "</div>"
      ],
      "text/plain": [
       "  gender scheduled_day appointment_day  age      neighbourhood  scholarship  \\\n",
       "0      F    2016-04-29      2016-04-29   62    JARDIM DA PENHA            0   \n",
       "1      M    2016-04-29      2016-04-29   56    JARDIM DA PENHA            0   \n",
       "2      F    2016-04-29      2016-04-29   62      MATA DA PRAIA            0   \n",
       "3      F    2016-04-29      2016-04-29    8  PONTAL DE CAMBURI            0   \n",
       "4      F    2016-04-29      2016-04-29   56    JARDIM DA PENHA            0   \n",
       "\n",
       "   hypertension  diabetes  alcoholism  handicap  sms_received no_show  \\\n",
       "0             1         0           0         0             0      No   \n",
       "1             0         0           0         0             0      No   \n",
       "2             0         0           0         0             0      No   \n",
       "3             0         0           0         0             0      No   \n",
       "4             1         1           0         0             0      No   \n",
       "\n",
       "  appointment_lead_days appointment_day_name  \n",
       "0                0 days               Friday  \n",
       "1                0 days               Friday  \n",
       "2                0 days               Friday  \n",
       "3                0 days               Friday  \n",
       "4                0 days               Friday  "
      ]
     },
     "execution_count": 48,
     "metadata": {},
     "output_type": "execute_result"
    }
   ],
   "source": [
    "df.head()"
   ]
  },
  {
   "cell_type": "markdown",
   "metadata": {},
   "source": [
    "#### Just rearranging columns for a more intuitive layout:"
   ]
  },
  {
   "cell_type": "code",
   "execution_count": 49,
   "metadata": {},
   "outputs": [],
   "source": [
    "columns = df.columns"
   ]
  },
  {
   "cell_type": "code",
   "execution_count": 50,
   "metadata": {},
   "outputs": [
    {
     "data": {
      "text/plain": [
       "Index(['gender', 'scheduled_day', 'appointment_day', 'age', 'neighbourhood',\n",
       "       'scholarship', 'hypertension', 'diabetes', 'alcoholism', 'handicap',\n",
       "       'sms_received', 'no_show', 'appointment_lead_days',\n",
       "       'appointment_day_name'],\n",
       "      dtype='object')"
      ]
     },
     "execution_count": 50,
     "metadata": {},
     "output_type": "execute_result"
    }
   ],
   "source": [
    "columns"
   ]
  },
  {
   "cell_type": "code",
   "execution_count": 51,
   "metadata": {},
   "outputs": [],
   "source": [
    "columns = ['gender', 'scheduled_day', 'appointment_day', 'appointment_day_name', 'appointment_lead_days', 'age', 'neighbourhood',\n",
    "           'scholarship', 'hypertension', 'diabetes', 'alcoholism', 'handicap', 'sms_received', 'no_show']"
   ]
  },
  {
   "cell_type": "code",
   "execution_count": 52,
   "metadata": {},
   "outputs": [],
   "source": [
    "df = df[columns]"
   ]
  },
  {
   "cell_type": "code",
   "execution_count": 53,
   "metadata": {},
   "outputs": [
    {
     "data": {
      "text/html": [
       "<div>\n",
       "<style scoped>\n",
       "    .dataframe tbody tr th:only-of-type {\n",
       "        vertical-align: middle;\n",
       "    }\n",
       "\n",
       "    .dataframe tbody tr th {\n",
       "        vertical-align: top;\n",
       "    }\n",
       "\n",
       "    .dataframe thead th {\n",
       "        text-align: right;\n",
       "    }\n",
       "</style>\n",
       "<table border=\"1\" class=\"dataframe\">\n",
       "  <thead>\n",
       "    <tr style=\"text-align: right;\">\n",
       "      <th></th>\n",
       "      <th>gender</th>\n",
       "      <th>scheduled_day</th>\n",
       "      <th>appointment_day</th>\n",
       "      <th>appointment_day_name</th>\n",
       "      <th>appointment_lead_days</th>\n",
       "      <th>age</th>\n",
       "      <th>neighbourhood</th>\n",
       "      <th>scholarship</th>\n",
       "      <th>hypertension</th>\n",
       "      <th>diabetes</th>\n",
       "      <th>alcoholism</th>\n",
       "      <th>handicap</th>\n",
       "      <th>sms_received</th>\n",
       "      <th>no_show</th>\n",
       "    </tr>\n",
       "  </thead>\n",
       "  <tbody>\n",
       "    <tr>\n",
       "      <th>0</th>\n",
       "      <td>F</td>\n",
       "      <td>2016-04-29</td>\n",
       "      <td>2016-04-29</td>\n",
       "      <td>Friday</td>\n",
       "      <td>0 days</td>\n",
       "      <td>62</td>\n",
       "      <td>JARDIM DA PENHA</td>\n",
       "      <td>0</td>\n",
       "      <td>1</td>\n",
       "      <td>0</td>\n",
       "      <td>0</td>\n",
       "      <td>0</td>\n",
       "      <td>0</td>\n",
       "      <td>No</td>\n",
       "    </tr>\n",
       "    <tr>\n",
       "      <th>1</th>\n",
       "      <td>M</td>\n",
       "      <td>2016-04-29</td>\n",
       "      <td>2016-04-29</td>\n",
       "      <td>Friday</td>\n",
       "      <td>0 days</td>\n",
       "      <td>56</td>\n",
       "      <td>JARDIM DA PENHA</td>\n",
       "      <td>0</td>\n",
       "      <td>0</td>\n",
       "      <td>0</td>\n",
       "      <td>0</td>\n",
       "      <td>0</td>\n",
       "      <td>0</td>\n",
       "      <td>No</td>\n",
       "    </tr>\n",
       "    <tr>\n",
       "      <th>2</th>\n",
       "      <td>F</td>\n",
       "      <td>2016-04-29</td>\n",
       "      <td>2016-04-29</td>\n",
       "      <td>Friday</td>\n",
       "      <td>0 days</td>\n",
       "      <td>62</td>\n",
       "      <td>MATA DA PRAIA</td>\n",
       "      <td>0</td>\n",
       "      <td>0</td>\n",
       "      <td>0</td>\n",
       "      <td>0</td>\n",
       "      <td>0</td>\n",
       "      <td>0</td>\n",
       "      <td>No</td>\n",
       "    </tr>\n",
       "    <tr>\n",
       "      <th>3</th>\n",
       "      <td>F</td>\n",
       "      <td>2016-04-29</td>\n",
       "      <td>2016-04-29</td>\n",
       "      <td>Friday</td>\n",
       "      <td>0 days</td>\n",
       "      <td>8</td>\n",
       "      <td>PONTAL DE CAMBURI</td>\n",
       "      <td>0</td>\n",
       "      <td>0</td>\n",
       "      <td>0</td>\n",
       "      <td>0</td>\n",
       "      <td>0</td>\n",
       "      <td>0</td>\n",
       "      <td>No</td>\n",
       "    </tr>\n",
       "    <tr>\n",
       "      <th>4</th>\n",
       "      <td>F</td>\n",
       "      <td>2016-04-29</td>\n",
       "      <td>2016-04-29</td>\n",
       "      <td>Friday</td>\n",
       "      <td>0 days</td>\n",
       "      <td>56</td>\n",
       "      <td>JARDIM DA PENHA</td>\n",
       "      <td>0</td>\n",
       "      <td>1</td>\n",
       "      <td>1</td>\n",
       "      <td>0</td>\n",
       "      <td>0</td>\n",
       "      <td>0</td>\n",
       "      <td>No</td>\n",
       "    </tr>\n",
       "  </tbody>\n",
       "</table>\n",
       "</div>"
      ],
      "text/plain": [
       "  gender scheduled_day appointment_day appointment_day_name  \\\n",
       "0      F    2016-04-29      2016-04-29               Friday   \n",
       "1      M    2016-04-29      2016-04-29               Friday   \n",
       "2      F    2016-04-29      2016-04-29               Friday   \n",
       "3      F    2016-04-29      2016-04-29               Friday   \n",
       "4      F    2016-04-29      2016-04-29               Friday   \n",
       "\n",
       "  appointment_lead_days  age      neighbourhood  scholarship  hypertension  \\\n",
       "0                0 days   62    JARDIM DA PENHA            0             1   \n",
       "1                0 days   56    JARDIM DA PENHA            0             0   \n",
       "2                0 days   62      MATA DA PRAIA            0             0   \n",
       "3                0 days    8  PONTAL DE CAMBURI            0             0   \n",
       "4                0 days   56    JARDIM DA PENHA            0             1   \n",
       "\n",
       "   diabetes  alcoholism  handicap  sms_received no_show  \n",
       "0         0           0         0             0      No  \n",
       "1         0           0         0             0      No  \n",
       "2         0           0         0             0      No  \n",
       "3         0           0         0             0      No  \n",
       "4         1           0         0             0      No  "
      ]
     },
     "execution_count": 53,
     "metadata": {},
     "output_type": "execute_result"
    }
   ],
   "source": [
    "df.head()"
   ]
  },
  {
   "cell_type": "markdown",
   "metadata": {},
   "source": [
    "## Now with all cleaning done, we can move to EDA."
   ]
  },
  {
   "cell_type": "markdown",
   "metadata": {},
   "source": [
    "<a id='eda'></a>\n",
    "## Exploratory Data Analysis"
   ]
  },
  {
   "cell_type": "code",
   "execution_count": 54,
   "metadata": {},
   "outputs": [
    {
     "name": "stdout",
     "output_type": "stream",
     "text": [
      "\u001b[1m1- What impact does gender have on no-show?\u001b[0m\n"
     ]
    }
   ],
   "source": [
    "print_question(1)"
   ]
  },
  {
   "cell_type": "markdown",
   "metadata": {},
   "source": [
    "#### Relative values are going to be used instead of absolute ones, value_counts() is going to be used to get count of all appointments by gender, then count of all no-shows by gender, then we will be comparing them to each other."
   ]
  },
  {
   "cell_type": "code",
   "execution_count": 55,
   "metadata": {},
   "outputs": [],
   "source": [
    "# Create 2 data frames, one for no_show = yes (patients that didn't show up), and one for no_show = no (patients that showed up)\n",
    "df_no_show = df[df['no_show'] == 'Yes']\n",
    "df_show = df[df['no_show'] == 'No']"
   ]
  },
  {
   "cell_type": "code",
   "execution_count": 56,
   "metadata": {},
   "outputs": [
    {
     "data": {
      "text/plain": [
       "F    14455\n",
       "M     7643\n",
       "Name: gender, dtype: int64"
      ]
     },
     "execution_count": 56,
     "metadata": {},
     "output_type": "execute_result"
    }
   ],
   "source": [
    "df_no_show['gender'].value_counts()"
   ]
  },
  {
   "cell_type": "code",
   "execution_count": 57,
   "metadata": {},
   "outputs": [
    {
     "data": {
      "text/plain": [
       "F    71416\n",
       "M    38475\n",
       "Name: gender, dtype: int64"
      ]
     },
     "execution_count": 57,
     "metadata": {},
     "output_type": "execute_result"
    }
   ],
   "source": [
    "df['gender'].value_counts()"
   ]
  },
  {
   "cell_type": "code",
   "execution_count": 58,
   "metadata": {},
   "outputs": [],
   "source": [
    "gender_ratio = df_no_show['gender'].value_counts() / df['gender'].value_counts()"
   ]
  },
  {
   "cell_type": "code",
   "execution_count": 59,
   "metadata": {},
   "outputs": [],
   "source": [
    "gender_ratio = gender_ratio * 100"
   ]
  },
  {
   "cell_type": "code",
   "execution_count": 60,
   "metadata": {},
   "outputs": [
    {
     "data": {
      "text/plain": [
       "F    20.240562\n",
       "M    19.864847\n",
       "Name: gender, dtype: float64"
      ]
     },
     "execution_count": 60,
     "metadata": {},
     "output_type": "execute_result"
    }
   ],
   "source": [
    "gender_ratio"
   ]
  },
  {
   "cell_type": "code",
   "execution_count": 61,
   "metadata": {},
   "outputs": [
    {
     "name": "stdout",
     "output_type": "stream",
     "text": [
      "No-show percentage for females: 20.24%\n",
      "No-show percentage for males: 19.86%\n"
     ]
    },
    {
     "data": {
      "image/png": "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\n",
      "text/plain": [
       "<Figure size 460.8x345.6 with 1 Axes>"
      ]
     },
     "metadata": {
      "needs_background": "light"
     },
     "output_type": "display_data"
    }
   ],
   "source": [
    "# Order of arguments to the function: dataframe (or series), plot title, x-label, y-label, plot type, plot size (optional)\n",
    "plot_blueprint(gender_ratio, \"No-Show Percentage Across Genders\", \"Gender\", \"No-Show Percentage\", \"bar\")\n",
    "\n",
    "print(\"No-show percentage for females: {}%\\nNo-show percentage for males: {}%\"\n",
    "      .format(round(gender_ratio[0], 2), round(gender_ratio[1], 2)))"
   ]
  },
  {
   "cell_type": "code",
   "execution_count": 62,
   "metadata": {},
   "outputs": [
    {
     "name": "stdout",
     "output_type": "stream",
     "text": [
      "\u001b[1m2- Does early scheduling of appointments have an effect on no-show?\u001b[0m\n"
     ]
    }
   ],
   "source": [
    "print_question(2)"
   ]
  },
  {
   "cell_type": "markdown",
   "metadata": {},
   "source": [
    "#### Comparison of how many days all appointments are booked in advance versus how many days no-show appointments are booked in advance."
   ]
  },
  {
   "cell_type": "code",
   "execution_count": 63,
   "metadata": {},
   "outputs": [
    {
     "data": {
      "image/png": "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\n",
      "text/plain": [
       "<Figure size 460.8x345.6 with 1 Axes>"
      ]
     },
     "metadata": {
      "needs_background": "light"
     },
     "output_type": "display_data"
    }
   ],
   "source": [
    "# Order of arguments to the function: dataframe (or series), plot title, x-label, y-label, plot type, plot size (optional)\n",
    "plot_blueprint(df['appointment_lead_days'].dt.days, \"Overall Days Appointments are Booked in Advance\",\n",
    "               \"Days\", \"Frequency\", \"hist\")"
   ]
  },
  {
   "cell_type": "code",
   "execution_count": 64,
   "metadata": {},
   "outputs": [
    {
     "data": {
      "image/png": "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\n",
      "text/plain": [
       "<Figure size 460.8x345.6 with 1 Axes>"
      ]
     },
     "metadata": {
      "needs_background": "light"
     },
     "output_type": "display_data"
    }
   ],
   "source": [
    "# Order of arguments to the function: dataframe (or series), plot title, x-label, y-label, plot type, plot size (optional)\n",
    "plot_blueprint(df_no_show['appointment_lead_days'].dt.days, \"Days No-Show Appointments are Booked in Advance\",\n",
    "               \"Days\", \"Frequency\", \"hist\")"
   ]
  },
  {
   "cell_type": "code",
   "execution_count": 65,
   "metadata": {},
   "outputs": [
    {
     "name": "stdout",
     "output_type": "stream",
     "text": [
      "\u001b[1m3- Are certain age groups more likely to no-show?\u001b[0m\n"
     ]
    }
   ],
   "source": [
    "print_question(3)"
   ]
  },
  {
   "cell_type": "markdown",
   "metadata": {},
   "source": [
    "#### Similar to the last question, age groups for all appointments are going to be compared versus age groups for no-show appointments."
   ]
  },
  {
   "cell_type": "code",
   "execution_count": 66,
   "metadata": {
    "scrolled": true
   },
   "outputs": [
    {
     "data": {
      "image/png": "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\n",
      "text/plain": [
       "<Figure size 460.8x345.6 with 1 Axes>"
      ]
     },
     "metadata": {
      "needs_background": "light"
     },
     "output_type": "display_data"
    }
   ],
   "source": [
    "# Order of arguments to the function: dataframe (or series), plot title, x-label, y-label, plot type, plot size (optional)\n",
    "plot_blueprint(df['age'], \"Appointments Across All Age Groups\", \"Age\", \"Frequency\", \"hist\")"
   ]
  },
  {
   "cell_type": "code",
   "execution_count": 67,
   "metadata": {},
   "outputs": [
    {
     "data": {
      "image/png": "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\n",
      "text/plain": [
       "<Figure size 460.8x345.6 with 1 Axes>"
      ]
     },
     "metadata": {
      "needs_background": "light"
     },
     "output_type": "display_data"
    }
   ],
   "source": [
    "# Order of arguments to the function: dataframe (or series), plot title, x-label, y-label, plot type, plot size (optional)\n",
    "plot_blueprint(df_no_show['age'], \"No-Show Appointments Across All Age Groups\", \"Age\", \"Freuqncy\", \"hist\")"
   ]
  },
  {
   "cell_type": "code",
   "execution_count": 68,
   "metadata": {},
   "outputs": [
    {
     "name": "stdout",
     "output_type": "stream",
     "text": [
      "\u001b[1m4- On which week days are no-shows more likely to occur?\u001b[0m\n"
     ]
    }
   ],
   "source": [
    "print_question(4)"
   ]
  },
  {
   "cell_type": "markdown",
   "metadata": {},
   "source": [
    "#### Relative values are going to be used instead of absolute ones. Very few data points exist for Saturday, results therefore might not be very reliable. No data points exist for Sunday."
   ]
  },
  {
   "cell_type": "code",
   "execution_count": 69,
   "metadata": {},
   "outputs": [
    {
     "data": {
      "text/plain": [
       "Wednesday    25739\n",
       "Tuesday      25507\n",
       "Monday       22573\n",
       "Friday       18859\n",
       "Thursday     17174\n",
       "Saturday        39\n",
       "Name: appointment_day_name, dtype: int64"
      ]
     },
     "execution_count": 69,
     "metadata": {},
     "output_type": "execute_result"
    }
   ],
   "source": [
    "df['appointment_day_name'].value_counts()"
   ]
  },
  {
   "cell_type": "code",
   "execution_count": 70,
   "metadata": {},
   "outputs": [
    {
     "data": {
      "text/plain": [
       "Tuesday      5099\n",
       "Wednesday    5053\n",
       "Monday       4635\n",
       "Friday       3990\n",
       "Thursday     3312\n",
       "Saturday        9\n",
       "Name: appointment_day_name, dtype: int64"
      ]
     },
     "execution_count": 70,
     "metadata": {},
     "output_type": "execute_result"
    }
   ],
   "source": [
    "df_no_show['appointment_day_name'].value_counts()"
   ]
  },
  {
   "cell_type": "code",
   "execution_count": 71,
   "metadata": {},
   "outputs": [],
   "source": [
    "day_name_ratio = df_no_show['appointment_day_name'].value_counts() / df['appointment_day_name'].value_counts()"
   ]
  },
  {
   "cell_type": "code",
   "execution_count": 72,
   "metadata": {},
   "outputs": [],
   "source": [
    "day_name_ratio = day_name_ratio * 100"
   ]
  },
  {
   "cell_type": "code",
   "execution_count": 73,
   "metadata": {},
   "outputs": [],
   "source": [
    "day_name_ratio = day_name_ratio.sort_values()"
   ]
  },
  {
   "cell_type": "code",
   "execution_count": 74,
   "metadata": {},
   "outputs": [
    {
     "data": {
      "text/plain": [
       "Thursday     19.284966\n",
       "Wednesday    19.631687\n",
       "Tuesday      19.990591\n",
       "Monday       20.533381\n",
       "Friday       21.157007\n",
       "Saturday     23.076923\n",
       "Name: appointment_day_name, dtype: float64"
      ]
     },
     "execution_count": 74,
     "metadata": {},
     "output_type": "execute_result"
    }
   ],
   "source": [
    "day_name_ratio"
   ]
  },
  {
   "cell_type": "code",
   "execution_count": 75,
   "metadata": {},
   "outputs": [
    {
     "data": {
      "image/png": "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\n",
      "text/plain": [
       "<Figure size 460.8x345.6 with 1 Axes>"
      ]
     },
     "metadata": {
      "needs_background": "light"
     },
     "output_type": "display_data"
    }
   ],
   "source": [
    "# Order of arguments to the function: dataframe (or series), plot title, x-label, y-label, plot type, plot size (optional)\n",
    "plot_blueprint(day_name_ratio, \"No-Show Percentage Across Week Days\", \"No-Show Percentage\", \"Week Day Name\", \"barh\")"
   ]
  },
  {
   "cell_type": "code",
   "execution_count": 76,
   "metadata": {},
   "outputs": [
    {
     "name": "stdout",
     "output_type": "stream",
     "text": [
      "\u001b[1m5- Which neighbourhoods are more likely to have no-shows?\u001b[0m\n"
     ]
    }
   ],
   "source": [
    "print_question(5)"
   ]
  },
  {
   "cell_type": "markdown",
   "metadata": {},
   "source": [
    "#### Only neighbourhoods with at least 2000 appointments are going to be considered, then no-shows in each neighbourhood is going to be compared to the total appointments count, and then the top 20 are going to be selected."
   ]
  },
  {
   "cell_type": "code",
   "execution_count": 77,
   "metadata": {},
   "outputs": [],
   "source": [
    "# Select only neighbourhoods that have at least 2000 apointments\n",
    "appointments_by_neighbourhood = df['neighbourhood'].value_counts()\n",
    "appointments_by_neighbourhood = appointments_by_neighbourhood[appointments_by_neighbourhood >= 2000]"
   ]
  },
  {
   "cell_type": "code",
   "execution_count": 78,
   "metadata": {},
   "outputs": [],
   "source": [
    "# Extract indexes and convert them to a list\n",
    "selected_neighbourhoods = list(appointments_by_neighbourhood.index)"
   ]
  },
  {
   "cell_type": "code",
   "execution_count": 79,
   "metadata": {},
   "outputs": [],
   "source": [
    "# Use the list to query on the no-show dataframe\n",
    "selected_neighbourhoods_no_show = df_no_show[df_no_show['neighbourhood'].isin(selected_neighbourhoods)]"
   ]
  },
  {
   "cell_type": "code",
   "execution_count": 80,
   "metadata": {},
   "outputs": [],
   "source": [
    "no_show_by_neighbourhood = selected_neighbourhoods_no_show['neighbourhood'].value_counts()"
   ]
  },
  {
   "cell_type": "code",
   "execution_count": 81,
   "metadata": {},
   "outputs": [],
   "source": [
    "neighbourhood_ratio = no_show_by_neighbourhood/appointments_by_neighbourhood"
   ]
  },
  {
   "cell_type": "code",
   "execution_count": 82,
   "metadata": {},
   "outputs": [],
   "source": [
    "neighbourhood_ratio = (neighbourhood_ratio * 100).sort_values()"
   ]
  },
  {
   "cell_type": "code",
   "execution_count": 83,
   "metadata": {
    "scrolled": false
   },
   "outputs": [
    {
     "data": {
      "text/plain": [
       "SANTA MARTHA         15.758943\n",
       "JARDIM DA PENHA      16.292280\n",
       "SANTO ANTÔNIO        17.489938\n",
       "NOVA PALESTINA       17.764030\n",
       "JABOUR               17.989629\n",
       "TABUAZEIRO           18.187640\n",
       "JARDIM CAMBURI       18.763130\n",
       "DA PENHA             19.428053\n",
       "SANTO ANDRÉ          19.718310\n",
       "BONFIM               19.847881\n",
       "RESISTÊNCIA          20.173239\n",
       "SÃO PEDRO            20.937886\n",
       "CENTRO               20.996979\n",
       "MARIA ORTIZ          21.002757\n",
       "ROMÃO                21.174863\n",
       "GURIGICA             22.559761\n",
       "ANDORINHAS           22.652689\n",
       "CARATOÍRA            22.943723\n",
       "ILHA DO PRÍNCIPE     23.477493\n",
       "JESUS DE NAZARETH    24.368864\n",
       "ITARARÉ              25.994236\n",
       "Name: neighbourhood, dtype: float64"
      ]
     },
     "execution_count": 83,
     "metadata": {},
     "output_type": "execute_result"
    }
   ],
   "source": [
    "neighbourhood_ratio"
   ]
  },
  {
   "cell_type": "code",
   "execution_count": 84,
   "metadata": {
    "scrolled": false
   },
   "outputs": [
    {
     "data": {
      "image/png": "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\n",
      "text/plain": [
       "<Figure size 540x468 with 1 Axes>"
      ]
     },
     "metadata": {
      "needs_background": "light"
     },
     "output_type": "display_data"
    }
   ],
   "source": [
    "# Order of arguments to the function: dataframe (or series), plot title, x-label, y-label, plot type, plot size (optional)\n",
    "plot_blueprint(neighbourhood_ratio, \"No-Show Percentage in Top 20 Neighbourhoods\", \"No-Show Percentage\",\n",
    "             \"Neighbourhood\", \"barh\", plot_size = (7.5, 6.5))"
   ]
  },
  {
   "cell_type": "code",
   "execution_count": 85,
   "metadata": {},
   "outputs": [
    {
     "name": "stdout",
     "output_type": "stream",
     "text": [
      "\u001b[1m6- Are patients suffering from medical conditions less likely to no-show?\u001b[0m\n"
     ]
    }
   ],
   "source": [
    "print_question(6)"
   ]
  },
  {
   "cell_type": "markdown",
   "metadata": {},
   "source": [
    "#### Medical condition is assumed to be hypertension, diabetes, handicap, or any combination of the three."
   ]
  },
  {
   "cell_type": "code",
   "execution_count": 86,
   "metadata": {},
   "outputs": [],
   "source": [
    "# New dataframe with only patients that suffer from any of the 3 conditions\n",
    "patients_with_condition = df[(df['hypertension'] == 1) | (df['diabetes'] == 1) | (df['handicap'] == 1)]"
   ]
  },
  {
   "cell_type": "code",
   "execution_count": 87,
   "metadata": {},
   "outputs": [],
   "source": [
    "# Count of the patients is retrieved using the shape[0] of the new dataframe, to avoid counting patients multiple times\n",
    "# if they are suffering from multiple conditions\n",
    "patients_with_condition_count = patients_with_condition[['hypertension', 'diabetes', 'handicap']].shape[0]"
   ]
  },
  {
   "cell_type": "code",
   "execution_count": 88,
   "metadata": {},
   "outputs": [],
   "source": [
    "# Same as above 2 cells repeated for no-show dataframe\n",
    "patients_with_condition_no_show = df_no_show[(df_no_show['hypertension'] == 1)\n",
    "                                             | (df_no_show['diabetes'] == 1)\n",
    "                                             | (df_no_show['handicap'] == 1)]\n",
    "patients_with_condition_count_no_show = patients_with_condition_no_show[['hypertension', 'diabetes', 'handicap']].shape[0]"
   ]
  },
  {
   "cell_type": "code",
   "execution_count": 89,
   "metadata": {},
   "outputs": [],
   "source": [
    "patients_with_condition_no_show_percentage = patients_with_condition_count_no_show / patients_with_condition_count"
   ]
  },
  {
   "cell_type": "code",
   "execution_count": 90,
   "metadata": {},
   "outputs": [],
   "source": [
    "patients_with_condition_no_show_percentage = round((patients_with_condition_no_show_percentage * 100), 2)"
   ]
  },
  {
   "cell_type": "code",
   "execution_count": 91,
   "metadata": {},
   "outputs": [],
   "source": [
    "# New Dataframe with patients that do not suffer from any of the 3 conditions\n",
    "patients_without_condition = df[(df['hypertension'] == 0) & (df['diabetes'] == 0) & (df['handicap'] == 0)]"
   ]
  },
  {
   "cell_type": "code",
   "execution_count": 92,
   "metadata": {},
   "outputs": [],
   "source": [
    "patients_without_condition_count = patients_without_condition[['hypertension', 'diabetes', 'handicap']].shape[0]"
   ]
  },
  {
   "cell_type": "code",
   "execution_count": 93,
   "metadata": {},
   "outputs": [],
   "source": [
    "patients_without_condition_no_show = df_no_show[(df_no_show['hypertension'] == 0)\n",
    "                                             & (df_no_show['diabetes'] == 0)\n",
    "                                             & (df_no_show['handicap'] == 0)]\n",
    "patients_without_condition_no_show = patients_without_condition_no_show[['hypertension', 'diabetes', 'handicap']].shape[0]"
   ]
  },
  {
   "cell_type": "code",
   "execution_count": 94,
   "metadata": {},
   "outputs": [],
   "source": [
    "patients_without_condition_no_show_percentage = patients_without_condition_no_show / patients_without_condition_count"
   ]
  },
  {
   "cell_type": "code",
   "execution_count": 95,
   "metadata": {},
   "outputs": [],
   "source": [
    "patients_without_condition_no_show_percentage = round((patients_without_condition_no_show_percentage * 100), 2)"
   ]
  },
  {
   "cell_type": "code",
   "execution_count": 96,
   "metadata": {
    "scrolled": true
   },
   "outputs": [
    {
     "name": "stdout",
     "output_type": "stream",
     "text": [
      "17.46% of patients with a medical condition didn't show up\n",
      "20.86% of patients without a medical condition didn't show up\n"
     ]
    }
   ],
   "source": [
    "print(\"{}% of patients with a medical condition didn't show up\\n{}% of patients without a medical condition didn't show up\"\n",
    "      .format(patients_with_condition_no_show_percentage, patients_without_condition_no_show_percentage))"
   ]
  },
  {
   "cell_type": "code",
   "execution_count": 97,
   "metadata": {},
   "outputs": [
    {
     "name": "stdout",
     "output_type": "stream",
     "text": [
      "\u001b[1m7- Does SMS have a positive effect on no-show?\u001b[0m\n"
     ]
    }
   ],
   "source": [
    "print_question(7)"
   ]
  },
  {
   "cell_type": "markdown",
   "metadata": {},
   "source": [
    "#### Compare no-show percentage for patients that received SMS and patients that didn't."
   ]
  },
  {
   "cell_type": "code",
   "execution_count": 98,
   "metadata": {},
   "outputs": [
    {
     "data": {
      "text/plain": [
       "0    74409\n",
       "1    35482\n",
       "Name: sms_received, dtype: int64"
      ]
     },
     "execution_count": 98,
     "metadata": {},
     "output_type": "execute_result"
    }
   ],
   "source": [
    "# Get counts for SMS received and not received\n",
    "df['sms_received'].value_counts()"
   ]
  },
  {
   "cell_type": "code",
   "execution_count": 99,
   "metadata": {},
   "outputs": [],
   "source": [
    "sms_not_received = df['sms_received'].value_counts()[0]\n",
    "sms_received = df['sms_received'].value_counts()[1]"
   ]
  },
  {
   "cell_type": "code",
   "execution_count": 100,
   "metadata": {
    "scrolled": true
   },
   "outputs": [
    {
     "data": {
      "text/plain": [
       "No     62095\n",
       "Yes    12314\n",
       "Name: no_show, dtype: int64"
      ]
     },
     "execution_count": 100,
     "metadata": {},
     "output_type": "execute_result"
    }
   ],
   "source": [
    "# Get no-show counts for patients that did not receive SMS\n",
    "df[df['sms_received'] == 0]['no_show'].value_counts()"
   ]
  },
  {
   "cell_type": "code",
   "execution_count": 101,
   "metadata": {},
   "outputs": [],
   "source": [
    "sms_not_received_show = df[df['sms_received'] == 0]['no_show'].value_counts()[0]\n",
    "sms_not_received_no_show = df[df['sms_received'] == 0]['no_show'].value_counts()[1]"
   ]
  },
  {
   "cell_type": "code",
   "execution_count": 102,
   "metadata": {},
   "outputs": [
    {
     "data": {
      "text/plain": [
       "No     25698\n",
       "Yes     9784\n",
       "Name: no_show, dtype: int64"
      ]
     },
     "execution_count": 102,
     "metadata": {},
     "output_type": "execute_result"
    }
   ],
   "source": [
    "# Get no-show counts for patients that received SMS\n",
    "df[df['sms_received'] == 1]['no_show'].value_counts()"
   ]
  },
  {
   "cell_type": "code",
   "execution_count": 103,
   "metadata": {},
   "outputs": [],
   "source": [
    "sms_received_show = df[df['sms_received'] == 1]['no_show'].value_counts()[0]\n",
    "sms_received_no_show = df[df['sms_received'] == 1]['no_show'].value_counts()[1]"
   ]
  },
  {
   "cell_type": "code",
   "execution_count": 104,
   "metadata": {},
   "outputs": [
    {
     "name": "stdout",
     "output_type": "stream",
     "text": [
      "35482\n",
      "25698\n",
      "9784\n"
     ]
    }
   ],
   "source": [
    "print(sms_received)\n",
    "print(sms_received_show)\n",
    "print(sms_received_no_show)"
   ]
  },
  {
   "cell_type": "code",
   "execution_count": 105,
   "metadata": {},
   "outputs": [
    {
     "name": "stdout",
     "output_type": "stream",
     "text": [
      "74409\n",
      "62095\n",
      "12314\n"
     ]
    }
   ],
   "source": [
    "print(sms_not_received)\n",
    "print(sms_not_received_show)\n",
    "print(sms_not_received_no_show)"
   ]
  },
  {
   "cell_type": "code",
   "execution_count": 106,
   "metadata": {},
   "outputs": [],
   "source": [
    "received_no_show = sms_received_no_show / sms_received"
   ]
  },
  {
   "cell_type": "code",
   "execution_count": 107,
   "metadata": {},
   "outputs": [],
   "source": [
    "received_no_show = round((received_no_show * 100), 2)"
   ]
  },
  {
   "cell_type": "code",
   "execution_count": 108,
   "metadata": {},
   "outputs": [],
   "source": [
    "not_received_no_show = sms_not_received_no_show / sms_not_received"
   ]
  },
  {
   "cell_type": "code",
   "execution_count": 109,
   "metadata": {},
   "outputs": [],
   "source": [
    "not_received_no_show = round((not_received_no_show * 100), 2)"
   ]
  },
  {
   "cell_type": "code",
   "execution_count": 110,
   "metadata": {},
   "outputs": [
    {
     "name": "stdout",
     "output_type": "stream",
     "text": [
      "27.57% of the patients that received SMS did not show up\n",
      "16.55% of the patients that did not receive SMS did not show\n"
     ]
    }
   ],
   "source": [
    "print(\"{}% of the patients that received SMS did not show up\\n{}% of the patients that did not receive SMS did not show\"\n",
    "      .format(received_no_show, not_received_no_show))"
   ]
  },
  {
   "cell_type": "markdown",
   "metadata": {},
   "source": [
    "<a id='conclusions'></a>\n",
    "## Conclusions"
   ]
  },
  {
   "cell_type": "markdown",
   "metadata": {
    "collapsed": true
   },
   "source": [
    "### Looking back at our initial questions:"
   ]
  },
  {
   "cell_type": "code",
   "execution_count": 111,
   "metadata": {},
   "outputs": [
    {
     "name": "stdout",
     "output_type": "stream",
     "text": [
      "\u001b[1m1- What impact does gender have on no-show?\u001b[0m\n"
     ]
    }
   ],
   "source": [
    "print_question(1)"
   ]
  },
  {
   "cell_type": "markdown",
   "metadata": {},
   "source": [
    "Gender doesn't appear to have much impact on the probability of no-show. 20.24% of the females that booked appointments did not show, while 19.86% of the males did not show. This is a difference of 0.38%."
   ]
  },
  {
   "cell_type": "code",
   "execution_count": 112,
   "metadata": {},
   "outputs": [
    {
     "name": "stdout",
     "output_type": "stream",
     "text": [
      "No-show percentage for females: 20.24%\n",
      "No-show percentage for males: 19.86%\n"
     ]
    },
    {
     "data": {
      "image/png": "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\n",
      "text/plain": [
       "<Figure size 460.8x345.6 with 1 Axes>"
      ]
     },
     "metadata": {
      "needs_background": "light"
     },
     "output_type": "display_data"
    }
   ],
   "source": [
    "plot_blueprint(gender_ratio, \"No-Show Percentage Across Genders\", \"Gender\", \"No-Show Percentage\", \"bar\")\n",
    "\n",
    "print(\"No-show percentage for females: {}%\\nNo-show percentage for males: {}%\"\n",
    "      .format(round(gender_ratio[0], 2), round(gender_ratio[1], 2)))"
   ]
  },
  {
   "cell_type": "code",
   "execution_count": 113,
   "metadata": {},
   "outputs": [
    {
     "name": "stdout",
     "output_type": "stream",
     "text": [
      "\u001b[1m2- Does early scheduling of appointments have an effect on no-show?\u001b[0m\n"
     ]
    }
   ],
   "source": [
    "print_question(2)"
   ]
  },
  {
   "cell_type": "markdown",
   "metadata": {},
   "source": [
    "Yes, early scheduling seems to have an effect on no-show.\n",
    "\n",
    "Patients that schedule appointments between around 10 and 50 days appear to be more likely to no-show. This can be observed in the distribution of the 2 histograms below. The 1st one is for the overall distribution of how many days appointments are booked in advance, the 2nd one is for the distribution of the days for the patients that did not show up.\n",
    "\n",
    "The skewness appears to be caused by the groups of patients that book between around 10 and 50 days in advance."
   ]
  },
  {
   "cell_type": "code",
   "execution_count": 114,
   "metadata": {},
   "outputs": [
    {
     "data": {
      "image/png": "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\n",
      "text/plain": [
       "<Figure size 460.8x345.6 with 1 Axes>"
      ]
     },
     "metadata": {
      "needs_background": "light"
     },
     "output_type": "display_data"
    }
   ],
   "source": [
    "plot_blueprint(df['appointment_lead_days'].dt.days, \"Overall Days Appointments are Booked in Advance\",\n",
    "               \"Days\", \"Frequency\", \"hist\")"
   ]
  },
  {
   "cell_type": "code",
   "execution_count": 115,
   "metadata": {},
   "outputs": [
    {
     "data": {
      "image/png": "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\n",
      "text/plain": [
       "<Figure size 460.8x345.6 with 1 Axes>"
      ]
     },
     "metadata": {
      "needs_background": "light"
     },
     "output_type": "display_data"
    }
   ],
   "source": [
    "plot_blueprint(df_no_show['appointment_lead_days'].dt.days, \"Days No-Show Appointments are Booked in Advance\",\n",
    "               \"Days\", \"Frequency\", \"hist\")"
   ]
  },
  {
   "cell_type": "code",
   "execution_count": 116,
   "metadata": {},
   "outputs": [
    {
     "name": "stdout",
     "output_type": "stream",
     "text": [
      "\u001b[1m3- Are certain age groups more likely to no-show?\u001b[0m\n"
     ]
    }
   ],
   "source": [
    "print_question(3)"
   ]
  },
  {
   "cell_type": "markdown",
   "metadata": {},
   "source": [
    "Yes, the age groups between around 10 to 50 appear more likely to no-show, the other two age groups (less than 10 and more than 50) appear to be less likely to no-show. This observation is based on the change in the skewness between the 2 histograms below, where the 1st one is for the whole dataset, and the 2nd one is for the patients that did not show."
   ]
  },
  {
   "cell_type": "code",
   "execution_count": 117,
   "metadata": {},
   "outputs": [
    {
     "data": {
      "image/png": "iVBORw0KGgoAAAANSUhEUgAAAa8AAAFCCAYAAABGsVJdAAAABHNCSVQICAgIfAhkiAAAAAlwSFlzAAALEgAACxIB0t1+/AAAADh0RVh0U29mdHdhcmUAbWF0cGxvdGxpYiB2ZXJzaW9uMy4xLjMsIGh0dHA6Ly9tYXRwbG90bGliLm9yZy+AADFEAAAgAElEQVR4nO3de5gdVZnv8e+PhKuACRIwVxM0ZARGA7SIIpoBgRAcAg46yeNIg2hE4Xhjjgb1DByQIx4vOJxRMEgm4CjhLlGjGDOAg8MlQWO4mwYiaRKTQLiEi2DCe/6otaXo7O7sJL27eu38Ps+zn656a1XVWrt277dr1eoqRQRmZmY52abqCpiZmW0qJy8zM8uOk5eZmWXHycvMzLLj5GVmZtlx8jIzs+w4eVllJI2S9KykAVXXxRon6WZJH03TJ0m6teo62dbHycv+Kn0pPSlp+77YX0Q8GhE7R8T6Buo2WlJIGtgXdauz/1mSvrKF2zg7teGg3qpXs6jwsKT7emFbr0l/pMztjbr1sB9JOl3SYknPS/pT+kxPaeZ+rRpOXgYUyQE4FAjg2Eor04IkCfgwsAZo38xt9GXifjewB7CXpLdt4bZOAF4EjpQ0dItr1r0Lgc8AZwCvA4YDXwYm1iuckp2/AzPlA2c1JwK3A7Po8uWazjouljRP0lpJt0h6Q2l5SPpU+kv9cUlfr30pSNpG0pcl/VHSKkmXS3ptWvaqs6n0V/K5kn6T9vNLSbun3fw6/Xwq/RX/jtRl9RtJF0h6Ku3/nSm+LO2vvVTP7SV9Q9KjklamNu2Ylk2Q1CnpjLTeCkknp2XTgA8Bn0/7/kmKf0HSY6muD0o6vIf391BgGPBpYIqk7bq8xx+TdH/a1n2SDkjxpWk/i4HnJA2U9Ob0Xj0l6V5Jx5a2MymtvzbV7Z9TfHdJP03rrJH0Xxv54m4HbgDmdv08bIZ24GJgMcX7WG73AZJ+l+p7taQry2e4kt4naVGq939Leku9HUjaG/gkMCUi5kXECxGxPiJujYiTSuVulnSepN8Az1Mk52GS5qT3pUPSx0rlZ3WpzwRJnaX5pZLOTO/5k5L+XdIOadmmvue2KSLCL78AOih++Q8E/gLsWVo2C1hL8df49sC/AreWlgdwE7AbMAr4A/DRtOwjadt7ATsD1wE/SMtGp3UHpvmbgYeAvYEd0/z59cqm2EnAOuBkYADwFeBR4Dupnkemeu+cyn8bmJPquQvwE+CradmEtK1zgG2BSRRfboNL78FXSvseBywDhpXq98Ye3t9LgavStp8A3l9a9gHgMeBtgIA3AW9Iy5YCi4CR6T3ZNr2fXwS2Aw5LbRyXyq8ADk3Tg4ED0vRXKRLItul1KKBu6roT8Ex6D/4BeBzYrrT85tLxPan8WaizrVHAy8A+FGdEi0vLtgP+SJHQtwXeD7xUe5+BA4BVwNvT8W1P78f2dfZzKrC0gc/5zekzsi8wMO33FuC7wA7AeGA1cHg3x30C0FmaXwrck47PbsBvSvVv+D33azO+s6qugF/Vv4B3USSs3dP8A8BnS8tnAbNL8zsD64GRaT6AiaXlnwTmp+n5wCdLy8alfQ2kfvL6cpft/CJNv6psip0ELCnN/20qU068T6QvJAHPUUowwDuAR9L0BOCFLttfBRxceg/KX2JvSsvfC2y7kfe3lgyOS/PfA24oLb8R+HQ36y4FPlKaPxT4E7BNKXYFcHaafhT4OLBrl+2cQ3Em9aYGPg//RPEFPpDij4CngONLy2+m8eT1ZWBRmh6WPjf7p/l3UyRtlcrfyitf/hcB53bZ3oPAe7rZz+1dYp2p7n/mlT8GbgbOKZUZmeq0Syn2VWBWN8d9Ahsmr1NL85OAhzb1Pfdr018+hTUo/qL9ZUQ8nuZ/xIZdRctqExHxLMW1m2H1llP8NV1bNizNl5cNBPbspi5/Kk0/T5Eoe7KyNP1Cql/X2M7AEIokclfqxnkK+EWK1zwREesa2X9EdFBcXzkbWCVptqRh9coCx1Oc1dUGLPwQOFpSbd8jKc44u1N+b4cByyLi5VLsjxTXd6A4U5oE/DF1774jxb9Occb2y9S9Or2H/bUDV0XEuoh4keJseXO7Dk+kaC8RsZziLKe2rWHAY5G+6ZNyW98AnFE7XumYjeTVn7uaJ4BXXU+LiBHA7hQJWN3sYxiwJiLWlmLl97MR3X32N+U9t03k5LWVS9d8Pgi8R8XorD8BnwXeKumtpaIjS+vsTNFFsrzecoquotqy5RRfQuVl63h10mnElj7+4HGKRLZvRAxKr9dGxMaSY7f7j4gfRcS7KNoXwNe6WbedIgk+mt7fqym6kaam5cuANza47+XAyC7XTkZRnMEQEQsiYjLFYIsfU3RVEhFrI+KMiNgL+Hvgc/Wu0UkaQdEV+U+lz8MJwKTS9ceGSHonMBY4s7SttwNTVVznXAEMl1ROLOXP0TLgvNLxGhQRO0XEFXV295/ACEltDVSt6/u5m6RdSrG/vp8UZ+s7lZa9vs726n72G33PbfM4edlxFN0m+1B0r40H3gz8F8VfzTWTJL0rDTQ4F7gjIsp/cf5PSYMljaS4hnFlil8BfFbSmJT0/g9wZZcznEasprh2stcmrgdAOlO5BLhA0h4AkoZLOqrBTaws71vSOEmHqfi3gj9TJMYNhvxLGg4cDryPV97ft1IkutoZyPeBf5Z0oApvUmlATBd3UHyhfl7StpImUHwxzpa0naQPSXptRPyFoqtyfarH+9J2VYrX+xeFD1NcsxxXqu/eFF1wU+uU70k7MI9Xf7b2o0gGRwO3pTqcngaiTAbK/0ZwCXCqpLen9+U1ko7pkmgAiIgHKbpjZ0s6QtKOKv5/8J09VTB9hv8b+KqkHdKAkFNIZ4sU1xsnSdpN0uspzra7Ok3SCEm7UVyLvBI26T23zVF1v6Vf1b4ous6+WSf+QYouvIEU/f4XU3wRPUsx8m9MqWwAnwIepui++SYwIC3bBvgXir+iVwP/wSuDIEaz4TWvj5a2exKvHhhyTtrGU8DBdZa/qfhIv6odncC70vQOFMnzYYovk/uBT6VlEyhdy0ixpcB70/RYii+ypyjOaN4C3EkxWGIN8FPS4I0u25gO3FUnPozi2t9+af5Uius5z1IMANi/ax1K6+5L0f32NHAf6XoUxQCIXwBPpvYtKLX9s2lbz6X35H9183l4APgfdeKfBxZ2PU5dj0Gp/A6pHn9fZ9l3gWvSdFt6X5+lOCO9rlw3imHuC9L7viKV2aWbuovic3g3xR8TK9L79EHSNUK6fMZSbEQ6fmsoum9P7dKOK9P7uTi9j12veZ2ZjsNTwGXATpvynvu1eS+lN9msW5JmUfzCfrmb5QGMjeI6kNlmk3QHcHFE/HvVdWmEpKUUyfBXVddla+NuQzOrjKT3SHp96jZspzij/UXV9bL+r5Jb7ZiZJeMoBpXsTNFld0JErKi2SpYDdxuamVl23G1oZmbZcfIyM7PsbHXXvHbfffcYPXp01dUwMzPgrrvuejwihmy85Kttdclr9OjRLFy4sOpqmJkZIOmPGy+1IXcbmplZdpy8zMwsO05eZmaWHScvMzPLjpOXmZllp2nJS9JISTdJul/SvZI+neK7SZonaUn6OTjFJelCSR2SFks6oLSt9lR+Sbr/WS1+oKS70zoXdnkukJmZtahmnnmtA86IiDdTPL7iNEn7UDwiYn5EjKV4RHzt6aJHUzx2YiwwjeIR4KRn5JxF8RC7g4CzagkvlZlWWm9iE9tjZmb9RNOSV0SsiIjfpum1FM9OGg5MpnjmDenncWl6MnB5FG4HBkkaChwFzIuINRHxJMUzpSamZbtGxG1R3KDx8tK2zMyshfXJNS9Jo4H9KZ4Cu2ftrtHp5x6p2HCKBxbWdKZYT/HOOnEzM2txTU9e6dHv1wKfiYhneipaJxabEa9Xh2mSFkpauHr16o1V2czM+rmm3h5K0rYUieuHEXFdCq+UNDQiVqSuv1Up3gmMLK0+Alie4hO6xG9O8RF1ym8gImYAMwDa2tq26Bkwo6f/bEtW7xVLzz+m6iqYmVWqmaMNBVwK3B8R3yotmgPURgy2AzeU4iemUYcHA0+nbsUbgSMlDU4DNY4EbkzL1ko6OO3rxNK2zMyshTXzzOsQ4MPA3ZIWpdgXgfOBqySdAjwKfCAtmwtMAjqA54GTASJijaRzgQWp3DkRsSZNfwKYBewI/Dy9zMysxTUteUXErdS/LgVweJ3yAZzWzbZmAjPrxBcC+21BNc3MLEO+w4aZmWXHycvMzLLj5GVmZtlx8jIzs+w4eZmZWXacvMzMLDtOXmZmlh0nLzMzy46Tl5mZZcfJy8zMsuPkZWZm2XHyMjOz7DT1eV5mrarq57r5mW62tfOZl5mZZcfJy8zMsuPkZWZm2XHyMjOz7Dh5mZlZdpy8zMwsO05eZmaWHScvMzPLjpOXmZllp2nJS9JMSask3VOKXSlpUXotlbQoxUdLeqG07OLSOgdKultSh6QLJSnFd5M0T9KS9HNws9piZmb9SzPPvGYBE8uBiPjHiBgfEeOBa4HrSosfqi2LiFNL8YuAacDY9KptczowPyLGAvPTvJmZbQWalrwi4tfAmnrL0tnTB4EretqGpKHArhFxW0QEcDlwXFo8GbgsTV9WipuZWYur6prXocDKiFhSio2R9DtJt0g6NMWGA52lMp0pBrBnRKwASD/3aHalzcysf6jqrvJTefVZ1wpgVEQ8IelA4MeS9gVUZ93Y1J1JmkbR9cioUaM2o7pmZtaf9PmZl6SBwPuBK2uxiHgxIp5I03cBDwF7U5xpjSitPgJYnqZXpm7FWvfiqu72GREzIqItItqGDBnSm80xM7MKVNFt+F7ggYj4a3egpCGSBqTpvSgGZjycugPXSjo4XSc7EbghrTYHaE/T7aW4mZm1uGYOlb8CuA0YJ6lT0ilp0RQ2HKjxbmCxpN8D1wCnRkRtsMcngO8DHRRnZD9P8fOBIyQtAY5I82ZmthVo2jWviJjaTfykOrFrKYbO1yu/ENivTvwJ4PAtq6WZmeXId9gwM7PsOHmZmVl2nLzMzCw7Vf2fl2Vs9PSfVbr/pecfU+n+zax6PvMyM7PsOHmZmVl2nLzMzCw7Tl5mZpYdJy8zM8uOk5eZmWXHycvMzLLj5GVmZtlx8jIzs+w4eZmZWXacvMzMLDu+t6Flp+p7K5pZ9XzmZWZm2XHyMjOz7Dh5mZlZdpy8zMwsO05eZmaWHScvMzPLTtOSl6SZklZJuqcUO1vSY5IWpdek0rIzJXVIelDSUaX4xBTrkDS9FB8j6Q5JSyRdKWm7ZrXFzMz6l2aeec0CJtaJXxAR49NrLoCkfYApwL5pne9KGiBpAPAd4GhgH2BqKgvwtbStscCTwClNbIuZmfUjTUteEfFrYE2DxScDsyPixYh4BOgADkqvjoh4OCJeAmYDkyUJOAy4Jq1/GXBcrzbAzMz6rSqueZ0uaXHqVhycYsOBZaUynSnWXfx1wFMRsa5L3MzMtgJ9nbwuAt4IjAdWAN9McdUpG5sRr0vSNEkLJS1cvXr1ptXYzMz6nT5NXhGxMiLWR8TLwCUU3YJQnDmNLBUdASzvIf44MEjSwC7x7vY7IyLaIqJtyJAhvdMYMzOrTJ8mL0lDS7PHA7WRiHOAKZK2lzQGGAvcCSwAxqaRhdtRDOqYExEB3ASckNZvB27oizaYmVn1mnZXeUlXABOA3SV1AmcBEySNp+jiWwp8HCAi7pV0FXAfsA44LSLWp+2cDtwIDABmRsS9aRdfAGZL+grwO+DSZrXFzMz6l6Ylr4iYWifcbYKJiPOA8+rE5wJz68Qf5pVuRzMz24r4eV4Z8vOszGxr59tDmZlZdpy8zMwsO05eZmaWHScvMzPLjpOXmZllx8nLzMyy46HyZhnqD/8usfT8Y6qugm3FfOZlZmbZcfIyM7PsOHmZmVl2nLzMzCw7Tl5mZpYdJy8zM8uOk5eZmWXHycvMzLLj5GVmZtlx8jIzs+w4eZmZWXacvMzMLDtOXmZmlh0nLzMzy46Tl5mZZadpyUvSTEmrJN1Tin1d0gOSFku6XtKgFB8t6QVJi9Lr4tI6B0q6W1KHpAslKcV3kzRP0pL0c3Cz2mJmZv1LM8+8ZgETu8TmAftFxFuAPwBnlpY9FBHj0+vUUvwiYBowNr1q25wOzI+IscD8NG9mZluBpiWviPg1sKZL7JcRsS7N3g6M6GkbkoYCu0bEbRERwOXAcWnxZOCyNH1ZKW5mZi2uymteHwF+XpofI+l3km6RdGiKDQc6S2U6Uwxgz4hYAZB+7tHdjiRNk7RQ0sLVq1f3XgvMzKwSlSQvSV8C1gE/TKEVwKiI2B/4HPAjSbsCqrN6bOr+ImJGRLRFRNuQIUM2t9pmZtZPNJS8JO3XWzuU1A68D/hQ6gokIl6MiCfS9F3AQ8DeFGda5a7FEcDyNL0ydSvWuhdX9VYdzcysf2v0zOtiSXdK+mRthODmkDQR+AJwbEQ8X4oPkTQgTe9FMTDj4dQduFbSwWmU4YnADWm1OUB7mm4vxc3MrMU1lLwi4l3Ah4CRwEJJP5J0RE/rSLoCuA0YJ6lT0inAvwG7APO6DIl/N7BY0u+Ba4BTI6I22OMTwPeBDoozstp1svOBIyQtAY5I82ZmthUY2GjBiFgi6cvAQuBCYP90NvTFiLiuTvmpdTZzaTfbvha4tptlC4ENui1TN+PhjdbfzMxaR6PXvN4i6QLgfuAw4O8j4s1p+oIm1s/MzGwDjZ55/RtwCcVZ1gu1YEQsT2djZmZmfabR5DUJeCEi1gNI2gbYISKej4gfNK12ZmZmdTQ62vBXwI6l+Z1SzMzMrM81mrx2iIhnazNpeqfmVMnMzKxnjSav5yQdUJuRdCDwQg/lzczMmqbRa16fAa6WVLu7xVDgH5tTJTMzs541lLwiYoGkvwHGUdxv8IGI+EtTa2ZmZtaNhv9JGXgbMDqts78kIuLyptTKzMysBw0lL0k/AN4ILALWp3Dt+VpmZmZ9qtEzrzZgn9pd4M3MzKrU6GjDe4DXN7MiZmZmjWr0zGt34D5JdwIv1oIRcWxTamVmZtaDRpPX2c2shJmZ2aZodKj8LZLeAIyNiF9J2gkY0NyqmZmZ1dfoI1E+RvGQyO+l0HDgx82qlJmZWU8aHbBxGnAI8AwUD6YE9mhWpczMzHrSaPJ6MSJeqs1IGkjxf15mZmZ9rtHkdYukLwI7SjoCuBr4SfOqZWZm1r1Gk9d0YDVwN/BxYC7gJyibmVklGh1t+DJwSXqZmZlVqtF7Gz5CnWtcEbFXr9fIzMxsIxrtNmyjuKv824BDgQuB/9jYSpJmSlol6Z5SbDdJ8yQtST8Hp7gkXSipQ9LiLg+/bE/ll0hqL8UPlHR3WudCSWqwPWZmlrGGkldEPFF6PRYR3wYOa2DVWcDELrHpwPyIGAvMT/MARwNj02sacBEUyQ44C3g7cBBwVi3hpTLTSut13ZeZmbWgRrsNDyjNbkNxJrbLxtaLiF9LGt0lPBmYkKYvA24GvpDil6c7198uaZCkoansvIhYk+oyD5go6WZg14i4LcUvB44Dft5Im8zMLF+N3tvwm6XpdcBS4IObuc89I2IFQESskFT7Z+fhwLJSuc4U6yneWSduZmYtrtHRhn/X7IoA9a5XxWbEN9ywNI2ie5FRo0Ztbv3MzKyfaLTb8HM9LY+Ib23CPldKGprOuoYCq1K8ExhZKjcCWJ7iE7rEb07xEXXK16vfDGAGQFtbm+8MYmaWuU0ZbfgJXumuOxXYh+K610avfXUxB6iNGGwHbijFT0yjDg8Gnk7dizcCR0oanAZqHAncmJatlXRwGmV4YmlbZmbWwjblYZQHRMRaAElnA1dHxEd7WknSFRRnTbtL6qQYNXg+cJWkU4BHgQ+k4nOBSUAH8DxwMkBErJF0LrAglTunNniDIqHOAnakGKjhwRpmZluBRpPXKOCl0vxLwOiNrRQRU7tZdHidskFx9/p625kJzKwTXwjst7F6mJlZa2k0ef0AuFPS9RSDIo4HLm9arczMzHrQ6GjD8yT9nOLuGgAnR8TvmlctMzOz7jU6YANgJ+CZiPhXoFPSmCbVyczMrEcNJS9JZ1HcBePMFNqWBu5taGZm1gyNnnkdDxwLPAcQEcvZ9CHyZmZmvaLR5PVSGg0YAJJe07wqmZmZ9azR5HWVpO8BgyR9DPgVfjClmZlVpNHRht+QdATwDDAO+JeImNfUmpmZmXVjo8lL0gCK2zG9F3DCMjOzym202zAi1gPPS3ptH9THzMxsoxq9w8afgbvTgyCfqwUj4lNNqZWZmVkPGk1eP0svMzOzyvWYvCSNiohHI+KyvqqQmZnZxmzsmtePaxOSrm1yXczMzBqyseSl0vRezayImZlZozaWvKKbaTMzs8psbMDGWyU9Q3EGtmOaJs1HROza1NqZmZnV0WPyiogBfVURMzOzRm3K87zMzMz6BScvMzPLjpOXmZllx8nLzMyy0+fJS9I4SYtKr2ckfUbS2ZIeK8UnldY5U1KHpAclHVWKT0yxDknT+7otZmZWjUbvbdhrIuJBYDz89XErjwHXAycDF0TEN8rlJe0DTAH2BYYBv5K0d1r8HeAIoBNYIGlORNzXJw0xM7PK9Hny6uJw4KGI+KOk7spMBmZHxIvAI5I6gIPSso6IeBhA0uxU1snLzKzFVX3NawpwRWn+dEmLJc2UNDjFhgPLSmU6U6y7uJmZtbjKkpek7YBjgatT6CLgjRRdiiuAb9aK1lk9eojX29c0SQslLVy9evUW1dvMzKpX5ZnX0cBvI2IlQESsjIj1EfEycAmvdA12AiNL640AlvcQ30BEzIiItohoGzJkSC83w8zM+lqVyWsqpS5DSUNLy44H7knTc4ApkraXNAYYC9wJLADGShqTzuKmpLJmZtbiKhmwIWknilGCHy+F/6+k8RRdf0tryyLiXklXUQzEWAecFhHr03ZOB24EBgAzI+LePmuE2VZu9PRqH66+9PxjKt2/VauS5BURzwOv6xL7cA/lzwPOqxOfC8zt9QqamVm/VvVoQzMzs03m5GVmZtlx8jIzs+w4eZmZWXacvMzMLDtOXmZmlh0nLzMzy46Tl5mZZcfJy8zMsuPkZWZm2XHyMjOz7Dh5mZlZdpy8zMwsO05eZmaWHScvMzPLjpOXmZllx8nLzMyy4+RlZmbZcfIyM7PsOHmZmVl2nLzMzCw7Tl5mZpYdJy8zM8tOZclL0lJJd0taJGlhiu0maZ6kJenn4BSXpAsldUhaLOmA0nbaU/klktqrao+ZmfWdqs+8/i4ixkdEW5qfDsyPiLHA/DQPcDQwNr2mARdBkeyAs4C3AwcBZ9USnpmZta6qk1dXk4HL0vRlwHGl+OVRuB0YJGkocBQwLyLWRMSTwDxgYl9X2szM+laVySuAX0q6S9K0FNszIlYApJ97pPhwYFlp3c4U6y7+KpKmSVooaeHq1at7uRlmZtbXBla470MiYrmkPYB5kh7ooazqxKKH+KsDETOAGQBtbW0bLDczs7xUduYVEcvTz1XA9RTXrFam7kDSz1WpeCcwsrT6CGB5D3EzM2thlSQvSa+RtEttGjgSuAeYA9RGDLYDN6TpOcCJadThwcDTqVvxRuBISYPTQI0jU8zMzFpYVd2GewLXS6rV4UcR8QtJC4CrJJ0CPAp8IJWfC0wCOoDngZMBImKNpHOBBancORGxpu+aYWZmVagkeUXEw8Bb68SfAA6vEw/gtG62NROY2dt1NDOz/qu/DZU3MzPbKCcvMzPLjpOXmZllx8nLzMyy4+RlZmbZcfIyM7PsOHmZmVl2nLzMzCw7Tl5mZpYdJy8zM8uOk5eZmWXHycvMzLLj5GVmZtlx8jIzs+w4eZmZWXacvMzMLDtOXmZmlh0nLzMzy46Tl5mZZcfJy8zMsuPkZWZm2XHyMjOz7PR58pI0UtJNku6XdK+kT6f42ZIek7QovSaV1jlTUoekByUdVYpPTLEOSdP7ui1mZlaNgRXscx1wRkT8VtIuwF2S5qVlF0TEN8qFJe0DTAH2BYYBv5K0d1r8HeAIoBNYIGlORNzXJ60wM7PK9HnyiogVwIo0vVbS/cDwHlaZDMyOiBeBRyR1AAelZR0R8TCApNmprJOX2VZg9PSfVV0Flp5/TNVV2GpVes1L0mhgf+COFDpd0mJJMyUNTrHhwLLSap0p1l3czMxaXGXJS9LOwLXAZyLiGeAi4I3AeIozs2/WitZZPXqI19vXNEkLJS1cvXr1FtfdzMyqVUnykrQtReL6YURcBxARKyNifUS8DFzCK12DncDI0uojgOU9xDcQETMioi0i2oYMGdK7jTEzsz5XxWhDAZcC90fEt0rxoaVixwP3pOk5wBRJ20saA4wF7gQWAGMljZG0HcWgjjl90QYzM6tWFaMNDwE+DNwtaVGKfRGYKmk8RdffUuDjABFxr6SrKAZirANOi4j1AJJOB24EBgAzI+LevmyImZlVo4rRhrdS/3rV3B7WOQ84r058bk/rmZlZa/IdNszMLDtOXmZmlh0nLzMzy46Tl5mZZcfJy8zMsuPkZWZm2XHyMjOz7Dh5mZlZdpy8zMwsO05eZmaWHScvMzPLjpOXmZllx8nLzMyy4+RlZmbZcfIyM7PsOHmZmVl2nLzMzCw7Tl5mZpYdJy8zM8uOk5eZmWXHycvMzLLj5GVmZtnJPnlJmijpQUkdkqZXXR8zM2u+gVVXYEtIGgB8BzgC6AQWSJoTEfdVWzMz2xqMnv6zSve/9PxjKt1/lXI/8zoI6IiIhyPiJWA2MLniOpmZWZPlnryGA8tK850pZmZmLSzrbkNAdWKxQSFpGjAtzT4r6cEt2OfuwONbsH4OWr2Nbl/+Wr2NDbVPX+uDmjRPrY1v2JyVc09encDI0vwIYHnXQhExA5jRGzuUtDAi2npjW/1Vq7fR7ctfq7ex1dsHW97G3LsNFwBjJY2RtB0wBZhTcZ3MzKzJsj7zioh1kk4HbgQGADMj4t6Kq2VmZk2WdfICiIi5wNw+3GWvdD/2c63eRrcvf63exlZvH2xhGxWxwfgGMzOzfi33a15mZrYVcvLaBK12KypJIyXdJOl+SfdK+nSK79rg54QAAAUySURBVCZpnqQl6efgquu6JSQNkPQ7ST9N82Mk3ZHad2Ua7JMtSYMkXSPpgXQs39FKx1DSZ9Pn8x5JV0jaIfdjKGmmpFWS7inF6h4zFS5M3zuLJR1QXc0b0037vp4+o4slXS9pUGnZmal9D0o6qpF9OHk1qHQrqqOBfYCpkvaptlZbbB1wRkS8GTgYOC21aTowPyLGAvPTfM4+Ddxfmv8acEFq35PAKZXUqvf8K/CLiPgb4K0UbW2JYyhpOPApoC0i9qMYmDWF/I/hLGBil1h3x+xoYGx6TQMu6qM6bolZbNi+ecB+EfEW4A/AmQDpO2cKsG9a57vp+7ZHTl6Na7lbUUXEioj4bZpeS/GlN5yiXZelYpcBx1VTwy0naQRwDPD9NC/gMOCaVCT39u0KvBu4FCAiXoqIp2ihY0gxsGxHSQOBnYAVZH4MI+LXwJou4e6O2WTg8ijcDgySNLRvarp56rUvIn4ZEevS7O0U/5cLRftmR8SLEfEI0EHxfdsjJ6/GtfStqCSNBvYH7gD2jIgVUCQ4YI/qarbFvg18Hng5zb8OeKr0S5T7cdwLWA38e+oa/b6k19AixzAiHgO+ATxKkbSeBu6itY5hTXfHrBW/ez4C/DxNb1b7nLwa19CtqHIkaWfgWuAzEfFM1fXpLZLeB6yKiLvK4TpFcz6OA4EDgIsiYn/gOTLtIqwnXfeZDIwBhgGvoehG6yrnY7gxLfWZlfQliksWP6yF6hTbaPucvBrX0K2ociNpW4rE9cOIuC6FV9a6JdLPVVXVbwsdAhwraSlFN+9hFGdig1IXFOR/HDuBzoi4I81fQ5HMWuUYvhd4JCJWR8RfgOuAd9Jax7Cmu2PWMt89ktqB9wEfilf+T2uz2ufk1biWuxVVuv5zKXB/RHyrtGgO0J6m24Eb+rpuvSEizoyIERExmuJ4/WdEfAi4CTghFcu2fQAR8SdgmaRxKXQ4cB8tcgwpugsPlrRT+rzW2tcyx7Cku2M2BzgxjTo8GHi61r2YE0kTgS8Ax0bE86VFc4ApkraXNIZiYMqdG91gRPjV4AuYRDFK5iHgS1XXpxfa8y6K0/PFwKL0mkRxXWg+sCT93K3quvZCWycAP03Te6Vfjg7gamD7quu3hW0bDyxMx/HHwOBWOobA/wYeAO4BfgBsn/sxBK6guIb3F4ozj1O6O2YU3WrfSd87d1OMvKy8DZvRvg6Ka1u175qLS+W/lNr3IHB0I/vwHTbMzCw77jY0M7PsOHmZmVl2nLzMzCw7Tl5mZpYdJy8zM8uOk5dZPyXpeEkh6W+qrotZf+PkZdZ/TQVupfgHazMrcfIy64fS/SYPofjnzikpto2k76ZnW/1U0lxJJ6RlB0q6RdJdkm7s73cdN9tSTl5m/dNxFM/o+gOwJj2A8P3AaOBvgY8C74C/3p/y/wEnRMSBwEzgvCoqbdZXBm68iJlVYCrFTYShuKnwVGBb4OqIeBn4k6Sb0vJxwH7AvOL2fwyguDWPWcty8jLrZyS9juIO+PtJCopkFMD13a0C3BsR7+ijKppVzt2GZv3PCRRPzn1DRIyOiJHAI8DjwD+ka197UtxsGIqbmQ6R9NduREn7VlFxs77i5GXW/0xlw7OsaykexthJcXf171E89frpiHiJIuF9TdLvKe7Y/c6+q65Z3/Nd5c0yImnniHg2dS3eCRwSxTO9zLYqvuZllpefShoEbAec68RlWyufeZmZWXZ8zcvMzLLj5GVmZtlx8jIzs+w4eZmZWXacvMzMLDtOXmZmlp3/D1lvSZEPFu96AAAAAElFTkSuQmCC\n",
      "text/plain": [
       "<Figure size 460.8x345.6 with 1 Axes>"
      ]
     },
     "metadata": {
      "needs_background": "light"
     },
     "output_type": "display_data"
    }
   ],
   "source": [
    "plot_blueprint(df['age'], \"Appointments Across All Age Groups\", \"Age\", \"Frequency\", \"hist\")"
   ]
  },
  {
   "cell_type": "code",
   "execution_count": 118,
   "metadata": {},
   "outputs": [
    {
     "data": {
      "image/png": "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\n",
      "text/plain": [
       "<Figure size 460.8x345.6 with 1 Axes>"
      ]
     },
     "metadata": {
      "needs_background": "light"
     },
     "output_type": "display_data"
    }
   ],
   "source": [
    "plot_blueprint(df_no_show['age'], \"No-Show Appointments Across All Age Groups\", \"Age\", \"Freuqncy\", \"hist\")"
   ]
  },
  {
   "cell_type": "code",
   "execution_count": 119,
   "metadata": {},
   "outputs": [
    {
     "name": "stdout",
     "output_type": "stream",
     "text": [
      "\u001b[1m4- On which week days are no-shows more likely to occur?\u001b[0m\n"
     ]
    }
   ],
   "source": [
    "print_question(4)"
   ]
  },
  {
   "cell_type": "markdown",
   "metadata": {},
   "source": [
    "No-shows are most likely to occur on Saturday, followed by Fridays. Please refer to the figure below for details of all days."
   ]
  },
  {
   "cell_type": "code",
   "execution_count": 120,
   "metadata": {},
   "outputs": [
    {
     "data": {
      "image/png": "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\n",
      "text/plain": [
       "<Figure size 460.8x345.6 with 1 Axes>"
      ]
     },
     "metadata": {
      "needs_background": "light"
     },
     "output_type": "display_data"
    }
   ],
   "source": [
    "plot_blueprint(day_name_ratio, \"No-Show Percentage Across Week Days\", \"No-Show Percentage\", \"Week Day Name\", \"barh\")"
   ]
  },
  {
   "cell_type": "code",
   "execution_count": 121,
   "metadata": {},
   "outputs": [
    {
     "name": "stdout",
     "output_type": "stream",
     "text": [
      "\u001b[1m5- Which neighbourhoods are more likely to have no-shows?\u001b[0m\n"
     ]
    }
   ],
   "source": [
    "print_question(5)"
   ]
  },
  {
   "cell_type": "markdown",
   "metadata": {},
   "source": [
    "Only neighbourhoods that have at least 2000 booked appointments have been considered in this analysis."
   ]
  },
  {
   "cell_type": "code",
   "execution_count": 122,
   "metadata": {},
   "outputs": [
    {
     "data": {
      "image/png": "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\n",
      "text/plain": [
       "<Figure size 540x468 with 1 Axes>"
      ]
     },
     "metadata": {
      "needs_background": "light"
     },
     "output_type": "display_data"
    }
   ],
   "source": [
    "plot_blueprint(neighbourhood_ratio, \"No-Show Percentage in Top 20 Neighbourhoods\", \"No-Show Percentage\",\n",
    "             \"Neighbourhood\", \"barh\", plot_size = (7.5, 6.5))"
   ]
  },
  {
   "cell_type": "code",
   "execution_count": 123,
   "metadata": {},
   "outputs": [
    {
     "name": "stdout",
     "output_type": "stream",
     "text": [
      "\u001b[1m6- Are patients suffering from medical conditions less likely to no-show?\u001b[0m\n"
     ]
    }
   ],
   "source": [
    "print_question(6)"
   ]
  },
  {
   "cell_type": "markdown",
   "metadata": {},
   "source": [
    "Yes, patients suffering from medical conditions appear to be less likely to no-show. A medical condition is assumed to be hypertension, diabetes, handicap, or any combination of the three.\n",
    "\n",
    "17.46% of patients with a medical condition didn't show up, 20.86% of patients without a medical condition didn't show up.\n",
    "\n",
    "Patients with a medical condition appear to be 3.4% less likely to no-show."
   ]
  },
  {
   "cell_type": "code",
   "execution_count": 124,
   "metadata": {},
   "outputs": [
    {
     "name": "stdout",
     "output_type": "stream",
     "text": [
      "\u001b[1m7- Does SMS have a positive effect on no-show?\u001b[0m\n"
     ]
    }
   ],
   "source": [
    "print_question(7)"
   ]
  },
  {
   "cell_type": "markdown",
   "metadata": {},
   "source": [
    "No, SMS appears to have a negative effect on no-show.\n",
    "\n",
    "27.57% of the patients that received SMS did not show up, 16.55% of the patients that did not receive SMS did not show up.\n",
    "\n",
    "Patients that received SMS appear to be 11.02% more likely to no-show."
   ]
  },
  {
   "cell_type": "markdown",
   "metadata": {},
   "source": [
    "### Limitations:"
   ]
  },
  {
   "cell_type": "markdown",
   "metadata": {},
   "source": [
    "1- The dataset in use is a sample dataset, it doesn't represent a population, this implies a certain degree of uncertainity in the results.<br>\n",
    "2- No statistical inference was performed, the significance of the results therefore has not been evaluated.<br>\n",
    "3- On question 2, does early scheduling of appointments have an effect on no-show, the dataset does not include appointment hours, only appointment days. Appointment hours could be playing a role in the probability of no-show, but this cannot be deduced from the dataset.<br>\n",
    "4- On question 4, on which week days are no-shows more likely to occur, very few data points exist for Saturday, the result associated with it therefore might be less reliable than any other day.<br>\n",
    "5- Not exactly a limitation, but worthy of highlighting nevertheless, on question 7, does SMS have a positive effect on no-show, patients that receive SMS appear to be 11.02% more likely to no-show. Given how counter-intuitive this result is, reader should be skeptical to consider this correlation."
   ]
  }
 ],
 "metadata": {
  "kernelspec": {
   "display_name": "Python 3",
   "language": "python",
   "name": "python3"
  },
  "language_info": {
   "codemirror_mode": {
    "name": "ipython",
    "version": 3
   },
   "file_extension": ".py",
   "mimetype": "text/x-python",
   "name": "python",
   "nbconvert_exporter": "python",
   "pygments_lexer": "ipython3",
   "version": "3.7.6"
  }
 },
 "nbformat": 4,
 "nbformat_minor": 2
}
